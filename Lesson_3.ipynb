{
  "nbformat": 4,
  "nbformat_minor": 0,
  "metadata": {
    "colab": {
      "provenance": [],
      "authorship_tag": "ABX9TyM+hI/LuErfnl65WSOaDd+K",
      "include_colab_link": true
    },
    "kernelspec": {
      "name": "python3",
      "display_name": "Python 3"
    },
    "language_info": {
      "name": "python"
    }
  },
  "cells": [
    {
      "cell_type": "markdown",
      "metadata": {
        "id": "view-in-github",
        "colab_type": "text"
      },
      "source": [
        "<a href=\"https://colab.research.google.com/github/KhondamirRustamov/Python_intro_biophysics_lab/blob/main/Lesson_3.ipynb\" target=\"_parent\"><img src=\"https://colab.research.google.com/assets/colab-badge.svg\" alt=\"Open In Colab\"/></a>"
      ]
    },
    {
      "cell_type": "code",
      "execution_count": null,
      "metadata": {
        "id": "mSUQZDC27wEH"
      },
      "outputs": [],
      "source": [
        "# Lists\n",
        "\n",
        "this_is_list = ['item_1', 2, 2.24, True]\n",
        "this_is_string = 'item_string'\n",
        "\n",
        "print('type of the this_is_list is: ', type(this_is_list))\n",
        "print('type of the this_is_string is: ', type(this_is_string))"
      ]
    },
    {
      "cell_type": "code",
      "source": [
        "list_of_numbers = [0, 1, 2, 3, 4, 5, 6, 7]\n",
        "string_of_numbers = '01234567'\n",
        "\n",
        "print(list_of_numbers[3:6])\n",
        "print(string_of_numbers[3:6])"
      ],
      "metadata": {
        "id": "X-xClPpx8NVQ"
      },
      "execution_count": null,
      "outputs": []
    },
    {
      "cell_type": "code",
      "source": [
        "print(list_of_numbers[::-1])\n",
        "print(string_of_numbers[::-1])"
      ],
      "metadata": {
        "id": "P_VmLfzh8eAU"
      },
      "execution_count": null,
      "outputs": []
    },
    {
      "cell_type": "code",
      "source": [
        "print(list_of_numbers[::2])\n",
        "print(string_of_numbers[::2])"
      ],
      "metadata": {
        "id": "8vQ9zL5G8lFB"
      },
      "execution_count": null,
      "outputs": []
    },
    {
      "cell_type": "code",
      "source": [
        "list_of_numbers[3] = 9\n",
        "\n",
        "print(list_of_numbers)"
      ],
      "metadata": {
        "id": "12GgT2Mp8pan"
      },
      "execution_count": null,
      "outputs": []
    },
    {
      "cell_type": "code",
      "source": [
        "#string_of_numbers[3] = '9'\n",
        "\n",
        "print(string_of_numbers)"
      ],
      "metadata": {
        "id": "AzGxZHSy834v"
      },
      "execution_count": null,
      "outputs": []
    },
    {
      "cell_type": "code",
      "source": [
        "list_of_lists = [[0,1,2], [3,4,5], [6,7,8]]\n",
        "\n",
        "print(list_of_lists[1])\n",
        "print(list_of_lists[1][1])"
      ],
      "metadata": {
        "id": "lWlBvTfa9Akq"
      },
      "execution_count": null,
      "outputs": []
    },
    {
      "cell_type": "code",
      "source": [
        "for i in list_of_lists:\n",
        "  print(i)"
      ],
      "metadata": {
        "id": "29EfY56j9o58"
      },
      "execution_count": null,
      "outputs": []
    },
    {
      "cell_type": "code",
      "source": [
        "# strings to lists\n",
        "\n",
        "raw_data = '0,1,2,3,4,5,6,7,8,9'\n",
        "list_from_raw_data = raw_data.split(',')\n",
        "print(list_from_raw_data)"
      ],
      "metadata": {
        "id": "iD99SfyN9TOj"
      },
      "execution_count": null,
      "outputs": []
    },
    {
      "cell_type": "code",
      "source": [
        "# lists to strings\n",
        "\n",
        "string_from_list = ' '.join(list_from_raw_data)\n",
        "print(string_from_list)"
      ],
      "metadata": {
        "id": "EDhoVZH3-Ioz"
      },
      "execution_count": null,
      "outputs": []
    },
    {
      "cell_type": "code",
      "source": [
        "for i in list_from_raw_data:\n",
        "  print(i)"
      ],
      "metadata": {
        "id": "EvmL2dYI9kkX"
      },
      "execution_count": null,
      "outputs": []
    },
    {
      "cell_type": "code",
      "source": [
        "# range\n",
        "\n",
        "x = range(10)\n",
        "print(list(x))"
      ],
      "metadata": {
        "id": "gEw-dTWk-ZG0"
      },
      "execution_count": null,
      "outputs": []
    },
    {
      "cell_type": "code",
      "source": [
        "x = range(1, 10)\n",
        "print(list(x))"
      ],
      "metadata": {
        "id": "7RAU5Yjh-hlK"
      },
      "execution_count": null,
      "outputs": []
    },
    {
      "cell_type": "code",
      "source": [
        "x = range(0, 10, 2)\n",
        "print(list(x))"
      ],
      "metadata": {
        "id": "guqPoRqD-pWJ"
      },
      "execution_count": null,
      "outputs": []
    },
    {
      "cell_type": "code",
      "source": [
        "for i in range(5):\n",
        "  print(i)"
      ],
      "metadata": {
        "id": "LzRoTf7x-wis"
      },
      "execution_count": null,
      "outputs": []
    },
    {
      "cell_type": "code",
      "source": [
        "list_of_letters = ['a', 'b', 'c', 'd', 'e', 'f']\n",
        "\n",
        "print(len(list_of_letters))"
      ],
      "metadata": {
        "id": "TZW3zgJG-54R"
      },
      "execution_count": null,
      "outputs": []
    },
    {
      "cell_type": "code",
      "source": [
        "for i in range(len(list_of_letters)):\n",
        "  print(i, list_of_letters[i])"
      ],
      "metadata": {
        "id": "9hY9FdkR_Cy8"
      },
      "execution_count": null,
      "outputs": []
    },
    {
      "cell_type": "code",
      "source": [
        "# enumerate\n",
        "\n",
        "for i, xi in enumerate(list_of_letters):\n",
        "  print(i, xi)"
      ],
      "metadata": {
        "id": "8qLNHSOh9yt8"
      },
      "execution_count": null,
      "outputs": []
    },
    {
      "cell_type": "code",
      "source": [
        "x = list(range(50))\n",
        "new_list = []\n",
        "\n",
        "for i in x:\n",
        "  if i % 2 == 0:\n",
        "    new_list.append(i)\n",
        "\n",
        "print(new_list)"
      ],
      "metadata": {
        "id": "TfoaD__q-XmK"
      },
      "execution_count": null,
      "outputs": []
    },
    {
      "cell_type": "code",
      "source": [
        "raw_data = '0,1,2,3,4,5,6,7,8,9'\n",
        "list_from_raw_data = raw_data.split(',')\n",
        "\n",
        "print(list_from_raw_data)\n",
        "\n",
        "for i, xi in enumerate(list_from_raw_data):\n",
        "  list_from_raw_data[i] = int(xi)\n",
        "\n",
        "print(list_from_raw_data)"
      ],
      "metadata": {
        "id": "Kr2EXRmj_r3U"
      },
      "execution_count": null,
      "outputs": []
    },
    {
      "cell_type": "code",
      "source": [
        "first_list = [0, 1, 2, 3]\n",
        "second_list = [4, 5, 6, 7]\n",
        "\n",
        "print(first_list + second_list)"
      ],
      "metadata": {
        "id": "ba-RPtMgAB6F"
      },
      "execution_count": null,
      "outputs": []
    },
    {
      "cell_type": "code",
      "source": [
        "# lists with numbers\n",
        "\n",
        "list_with_numbers = [0, 1, 2, 3, 4]\n",
        "\n",
        "print(min(list_with_numbers))\n",
        "print(max(list_with_numbers))\n",
        "print(sum(list_with_numbers))"
      ],
      "metadata": {
        "id": "vGqTfKK5Ab9H"
      },
      "execution_count": null,
      "outputs": []
    },
    {
      "cell_type": "code",
      "source": [
        "# how to calculate average of the list_with_numbers?\n",
        "\n"
      ],
      "metadata": {
        "id": "j9v0d4M_Axov"
      },
      "execution_count": null,
      "outputs": []
    },
    {
      "cell_type": "code",
      "source": [
        "# files\n",
        "\n",
        "my_file = open('rosalind_hamm.txt', 'r').read()\n",
        "\n",
        "my_file"
      ],
      "metadata": {
        "id": "vMbj6Mf1A4fI"
      },
      "execution_count": null,
      "outputs": []
    },
    {
      "cell_type": "code",
      "source": [
        "my_file = my_file.split('\\n')\n",
        "\n",
        "print(my_file)"
      ],
      "metadata": {
        "id": "Th2xyvCJBc9E"
      },
      "execution_count": null,
      "outputs": []
    },
    {
      "cell_type": "code",
      "source": [
        "for i in my_file:\n",
        "  if i == '':\n",
        "    my_file.remove(i)\n",
        "\n",
        "print(my_file)"
      ],
      "metadata": {
        "id": "nbz2lpJ9By57"
      },
      "execution_count": null,
      "outputs": []
    },
    {
      "cell_type": "code",
      "source": [
        "dna_1 = my_file[0]\n",
        "dna_2 = my_file[1]\n",
        "\n",
        "print(dna_1)\n",
        "print(dna_2)"
      ],
      "metadata": {
        "id": "reQ6cXK1CJgi"
      },
      "execution_count": null,
      "outputs": []
    },
    {
      "cell_type": "code",
      "source": [
        "# zip\n",
        "\n",
        "humming_loss = 0\n",
        "\n",
        "for i, x in zip(dna_1, dna_2):\n",
        "  if ...\n",
        "    ..."
      ],
      "metadata": {
        "id": "2PVHhAxtCSjc"
      },
      "execution_count": null,
      "outputs": []
    },
    {
      "cell_type": "code",
      "source": [
        "a = [1, 2, 3, 4, 5]\n",
        "b = ['a', 'b', 'c', 'd', 'e']\n",
        "\n",
        "for i, x in zip(a, b):\n",
        "  print(i, x)"
      ],
      "metadata": {
        "id": "zNmpGk_MCe9D"
      },
      "execution_count": null,
      "outputs": []
    },
    {
      "cell_type": "code",
      "source": [
        "new_file = open('new_file.txt', 'w')\n",
        "\n",
        "new_file.write('Hello, python!')\n",
        "\n",
        "new_file.close()"
      ],
      "metadata": {
        "id": "c9Xa7-zaCvva"
      },
      "execution_count": 43,
      "outputs": []
    },
    {
      "cell_type": "code",
      "source": [
        "my_dna = 'ABSDEFGHJKLMNOP'\n",
        "\n",
        "for i in range(len(my_dna)):\n",
        "  print(my_dna[i:i+3])"
      ],
      "metadata": {
        "id": "jyW2HbHhDIc3"
      },
      "execution_count": null,
      "outputs": []
    }
  ]
}