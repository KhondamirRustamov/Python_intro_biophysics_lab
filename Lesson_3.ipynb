{
  "nbformat": 4,
  "nbformat_minor": 0,
  "metadata": {
    "colab": {
      "provenance": [],
      "authorship_tag": "ABX9TyNNELPxsa6rGnf1nP4rIpmW",
      "include_colab_link": true
    },
    "kernelspec": {
      "name": "python3",
      "display_name": "Python 3"
    },
    "language_info": {
      "name": "python"
    }
  },
  "cells": [
    {
      "cell_type": "markdown",
      "metadata": {
        "id": "view-in-github",
        "colab_type": "text"
      },
      "source": [
        "<a href=\"https://colab.research.google.com/github/KhondamirRustamov/Python_intro_biophysics_lab/blob/main/Lesson_3.ipynb\" target=\"_parent\"><img src=\"https://colab.research.google.com/assets/colab-badge.svg\" alt=\"Open In Colab\"/></a>"
      ]
    },
    {
      "cell_type": "code",
      "execution_count": 1,
      "metadata": {
        "id": "mSUQZDC27wEH",
        "colab": {
          "base_uri": "https://localhost:8080/"
        },
        "outputId": "2ff3f5ed-bd5c-448d-b0c7-64d2a85206ff"
      },
      "outputs": [
        {
          "output_type": "stream",
          "name": "stdout",
          "text": [
            "type of the this_is_list is:  <class 'list'>\n",
            "type of the this_is_string is:  <class 'str'>\n"
          ]
        }
      ],
      "source": [
        "# Lists\n",
        "\n",
        "this_is_list = ['item_1', 2, 2.24, True]\n",
        "this_is_string = 'item_string'\n",
        "\n",
        "print('type of the this_is_list is: ', type(this_is_list))\n",
        "print('type of the this_is_string is: ', type(this_is_string))"
      ]
    },
    {
      "cell_type": "code",
      "source": [
        "list_of_numbers = [0, 1, 2, 3, 4, 5, 6, 7]\n",
        "string_of_numbers = '01234567'\n",
        "\n",
        "print(list_of_numbers[3:6])\n",
        "print(string_of_numbers[3:6])"
      ],
      "metadata": {
        "id": "X-xClPpx8NVQ"
      },
      "execution_count": null,
      "outputs": []
    },
    {
      "cell_type": "code",
      "source": [
        "print(list_of_numbers[::-1])\n",
        "print(string_of_numbers[::-1])"
      ],
      "metadata": {
        "id": "P_VmLfzh8eAU"
      },
      "execution_count": null,
      "outputs": []
    },
    {
      "cell_type": "code",
      "source": [
        "print(list_of_numbers[::2])\n",
        "print(string_of_numbers[::2])"
      ],
      "metadata": {
        "id": "8vQ9zL5G8lFB"
      },
      "execution_count": null,
      "outputs": []
    },
    {
      "cell_type": "code",
      "source": [
        "count_list = [1, 2, 1, 2, 1, 3, 4, 1, 2, 3, 1, 2, 3]\n",
        "\n",
        "print(count_list.count(1))"
      ],
      "metadata": {
        "colab": {
          "base_uri": "https://localhost:8080/"
        },
        "id": "hA44qDYFy87t",
        "outputId": "d9994bce-318e-4ee9-ad56-7d2ebccd7703"
      },
      "execution_count": 3,
      "outputs": [
        {
          "output_type": "stream",
          "name": "stdout",
          "text": [
            "5\n"
          ]
        }
      ]
    },
    {
      "cell_type": "code",
      "source": [
        "count_string = 'ACGTCGATGCTAGCTGCTAGCTGACTGCA'\n",
        "\n",
        "print(count_string.count('A'))"
      ],
      "metadata": {
        "colab": {
          "base_uri": "https://localhost:8080/"
        },
        "id": "6bgUQidVzYLB",
        "outputId": "e0aee2bc-bce8-4ed1-bb43-0195a594691d"
      },
      "execution_count": 4,
      "outputs": [
        {
          "output_type": "stream",
          "name": "stdout",
          "text": [
            "6\n"
          ]
        }
      ]
    },
    {
      "cell_type": "code",
      "source": [
        "list_of_numbers[3] = 9\n",
        "\n",
        "print(list_of_numbers)"
      ],
      "metadata": {
        "id": "12GgT2Mp8pan"
      },
      "execution_count": null,
      "outputs": []
    },
    {
      "cell_type": "code",
      "source": [
        "#string_of_numbers[3] = '9'\n",
        "\n",
        "print(string_of_numbers)"
      ],
      "metadata": {
        "id": "AzGxZHSy834v"
      },
      "execution_count": null,
      "outputs": []
    },
    {
      "cell_type": "code",
      "source": [
        "list_of_lists = [[0,1,2], [3,4,5], [6,7,8]]\n",
        "\n",
        "print(list_of_lists[1])\n",
        "print(list_of_lists[1][1])"
      ],
      "metadata": {
        "id": "lWlBvTfa9Akq"
      },
      "execution_count": null,
      "outputs": []
    },
    {
      "cell_type": "code",
      "source": [
        "for i in list_of_lists:\n",
        "  print(i)"
      ],
      "metadata": {
        "id": "29EfY56j9o58"
      },
      "execution_count": null,
      "outputs": []
    },
    {
      "cell_type": "code",
      "source": [
        "# strings to lists\n",
        "\n",
        "raw_data = '0,1,2,3,4,5,6,7,8,9'\n",
        "list_from_raw_data = raw_data.split(',')\n",
        "print(list_from_raw_data)"
      ],
      "metadata": {
        "id": "iD99SfyN9TOj"
      },
      "execution_count": null,
      "outputs": []
    },
    {
      "cell_type": "code",
      "source": [
        "# lists to strings\n",
        "\n",
        "string_from_list = ' '.join(list_from_raw_data)\n",
        "print(string_from_list)"
      ],
      "metadata": {
        "id": "EDhoVZH3-Ioz"
      },
      "execution_count": null,
      "outputs": []
    },
    {
      "cell_type": "code",
      "source": [
        "for i in list_from_raw_data:\n",
        "  print(i)"
      ],
      "metadata": {
        "id": "EvmL2dYI9kkX"
      },
      "execution_count": null,
      "outputs": []
    },
    {
      "cell_type": "code",
      "source": [
        "# range\n",
        "\n",
        "x = range(10)\n",
        "print(list(x))"
      ],
      "metadata": {
        "id": "gEw-dTWk-ZG0"
      },
      "execution_count": null,
      "outputs": []
    },
    {
      "cell_type": "code",
      "source": [
        "x = range(1, 10)\n",
        "print(list(x))"
      ],
      "metadata": {
        "id": "7RAU5Yjh-hlK"
      },
      "execution_count": null,
      "outputs": []
    },
    {
      "cell_type": "code",
      "source": [
        "x = range(0, 10, 2)\n",
        "print(list(x))"
      ],
      "metadata": {
        "id": "guqPoRqD-pWJ"
      },
      "execution_count": null,
      "outputs": []
    },
    {
      "cell_type": "code",
      "source": [
        "for i in range(5):\n",
        "  print(i)"
      ],
      "metadata": {
        "id": "LzRoTf7x-wis"
      },
      "execution_count": null,
      "outputs": []
    },
    {
      "cell_type": "code",
      "source": [
        "list_of_letters = ['a', 'b', 'c', 'd', 'e', 'f']\n",
        "\n",
        "print(len(list_of_letters))"
      ],
      "metadata": {
        "id": "TZW3zgJG-54R"
      },
      "execution_count": null,
      "outputs": []
    },
    {
      "cell_type": "code",
      "source": [
        "for i in range(len(list_of_letters)):\n",
        "  print(i, list_of_letters[i])"
      ],
      "metadata": {
        "id": "9hY9FdkR_Cy8"
      },
      "execution_count": null,
      "outputs": []
    },
    {
      "cell_type": "code",
      "source": [
        "# enumerate\n",
        "\n",
        "for i, xi in enumerate(list_of_letters):\n",
        "  print(i, xi)"
      ],
      "metadata": {
        "id": "8qLNHSOh9yt8"
      },
      "execution_count": null,
      "outputs": []
    },
    {
      "cell_type": "code",
      "source": [
        "x = list(range(50))\n",
        "new_list = []\n",
        "\n",
        "for i in x:\n",
        "  if i % 2 == 0:\n",
        "    new_list.append(i)\n",
        "\n",
        "print(new_list)"
      ],
      "metadata": {
        "id": "TfoaD__q-XmK"
      },
      "execution_count": null,
      "outputs": []
    },
    {
      "cell_type": "code",
      "source": [
        "raw_data = '0,1,2,3,4,5,6,7,8,9'\n",
        "list_from_raw_data = raw_data.split(',')\n",
        "\n",
        "print(list_from_raw_data)\n",
        "\n",
        "for i, xi in enumerate(list_from_raw_data):\n",
        "  list_from_raw_data[i] = int(xi)\n",
        "\n",
        "print(list_from_raw_data)"
      ],
      "metadata": {
        "id": "Kr2EXRmj_r3U"
      },
      "execution_count": null,
      "outputs": []
    },
    {
      "cell_type": "code",
      "source": [
        "first_list = [0, 1, 2, 3]\n",
        "second_list = [4, 5, 6, 7]\n",
        "\n",
        "print(first_list + second_list)"
      ],
      "metadata": {
        "id": "ba-RPtMgAB6F"
      },
      "execution_count": null,
      "outputs": []
    },
    {
      "cell_type": "code",
      "source": [
        "# lists with numbers\n",
        "\n",
        "list_with_numbers = [0, 1, 2, 3, 4]\n",
        "\n",
        "print(min(list_with_numbers))\n",
        "print(max(list_with_numbers))\n",
        "print(sum(list_with_numbers))"
      ],
      "metadata": {
        "id": "vGqTfKK5Ab9H"
      },
      "execution_count": null,
      "outputs": []
    },
    {
      "cell_type": "code",
      "source": [
        "# how to calculate average of the list_with_numbers?\n",
        "\n"
      ],
      "metadata": {
        "id": "j9v0d4M_Axov"
      },
      "execution_count": null,
      "outputs": []
    },
    {
      "cell_type": "code",
      "source": [
        "# files\n",
        "\n",
        "my_file = open('rosalind_hamm.txt', 'r').read()\n",
        "\n",
        "my_file"
      ],
      "metadata": {
        "id": "vMbj6Mf1A4fI"
      },
      "execution_count": null,
      "outputs": []
    },
    {
      "cell_type": "code",
      "source": [
        "my_file = my_file.split('\\n')\n",
        "\n",
        "print(my_file)"
      ],
      "metadata": {
        "id": "Th2xyvCJBc9E"
      },
      "execution_count": null,
      "outputs": []
    },
    {
      "cell_type": "code",
      "source": [
        "for i in my_file:\n",
        "  if i == '':\n",
        "    my_file.remove(i)\n",
        "\n",
        "print(my_file)"
      ],
      "metadata": {
        "id": "nbz2lpJ9By57"
      },
      "execution_count": null,
      "outputs": []
    },
    {
      "cell_type": "code",
      "source": [
        "dna_1 = my_file[0]\n",
        "dna_2 = my_file[1]\n",
        "\n",
        "print(dna_1)\n",
        "print(dna_2)"
      ],
      "metadata": {
        "id": "reQ6cXK1CJgi"
      },
      "execution_count": null,
      "outputs": []
    },
    {
      "cell_type": "code",
      "source": [
        "# zip\n",
        "\n",
        "humming_loss = 0\n",
        "\n",
        "for i, x in zip(dna_1, dna_2):\n",
        "  if ...\n",
        "    ..."
      ],
      "metadata": {
        "id": "2PVHhAxtCSjc"
      },
      "execution_count": null,
      "outputs": []
    },
    {
      "cell_type": "code",
      "source": [
        "a = [1, 2, 3, 4, 5]\n",
        "b = ['a', 'b', 'c', 'd', 'e']\n",
        "\n",
        "for i, x in zip(a, b):\n",
        "  print(i, x)"
      ],
      "metadata": {
        "id": "zNmpGk_MCe9D"
      },
      "execution_count": null,
      "outputs": []
    },
    {
      "cell_type": "code",
      "source": [
        "new_file = open('new_file.txt', 'w')\n",
        "\n",
        "new_file.write('Hello, python!')\n",
        "\n",
        "new_file.close()"
      ],
      "metadata": {
        "id": "c9Xa7-zaCvva"
      },
      "execution_count": null,
      "outputs": []
    },
    {
      "cell_type": "code",
      "source": [
        "my_dna = 'ABSDEFGHJKLMNOP'\n",
        "\n",
        "for i in range(len(my_dna)):\n",
        "  print(my_dna[i:i+3])"
      ],
      "metadata": {
        "id": "jyW2HbHhDIc3"
      },
      "execution_count": null,
      "outputs": []
    },
    {
      "cell_type": "markdown",
      "source": [
        "![image.png](data:image/png;base64,iVBORw0KGgoAAAANSUhEUgAAAzMAAAKHCAIAAAA65YE2AAAgAElEQVR4nOzdd3xT9f7H8c8pTRtAoIKsSkEo4kAQlKGgV1uRoQICgopeUXHfqywnwwUKLsA7FH5s3DhwgCBiixdBRkVkqEApo1iWQAtI26Tt+f2RNE3TkzYtbfL9htfzwR8hPT355Juc5N3POed7DNM0BQAAAAqICHUBAAAAcCOZAQAAqIJkBgAAoAqSGQAAgCpIZgAAAKogmQEAAKiCZAYAAKAKkhkAAIAqIgNfNHHkrKqrAwAAIFwlTR4a4JL0zAAAAFRBMgMAAFAFyQwAAEAV5TjO7KzqUSezHa7bge8uBQAAOANV7AB9emYAAACqIJkBAACogmQGAACgCpIZAACAKkhmAAAAqiCZAQAAqIJkBgAAoAqSGQAAgCpIZgAAAKogmQEAAKiCZAYAAKAKkhkAAIAqSGYAAACqIJkBAACogmQGAACgCpIZAACAKkhmAAAAqiCZAQAAqIJkBgAAoAqSGQAAgCpIZgAAAKogmQEAAKiCZAYAAKAKkhkAAIAqSGYAAACqIJkBAACogmQGAACgCpIZAACAKkhmAAAAqiCZAQAAqIJkBgAAoAqSGQAAgCpIZgAAAKogmQEAAKiCZAYAAKAKkhkAAIAqSGYAAACqIJkBAACogmQGAACgCpIZAACAKkhmAAAAqiCZAQAAqIJkBgAAoAqSGQAAgCpIZgAAAKogmQEAAKiCZAYAAKAKkhkAAIAqSGYAAACqIJkBAACogmQGAACgCpIZAACAKkhmAAAAqiCZAQAAqIJkBgAAoAqSGQAAgCpIZgAAAKogmQEAAKiCZAYAAKAKkhkAAIAqSGYAAACqIJkBAACogmQGAACgCpIZAACAKkhmAAAAqiCZAQAAqIJkBgAAoAqSGQAAgCpIZgAAAKogmQEAAKiCZAYAAKAKkhkAAIAqSGYAAACqIJkBAACogmQGAACgCpIZAACAKkhmAAAAqiCZAQAAqIJkBgAAoAqSGQAAgCpIZgAAAKogmQEAAKiCZAYAAKAKkhkAAIAqSGYAAACqIJkBAACogmQGAACgCpIZAACAKkhmAAAAqiCZAQAAqIJkBgAAoAqSGQAAgCpIZgAAAKogmQEAAKiCZAYAAKAKkhkAAIAqSGYAAACqIJkBAACogmQGAACgCpIZAACAKkhmAAAAqiCZAQAAqIJkBgAAoAqSGQAAgCpIZgAAAKogmQEAAKiCZAYAAKAKkhkAAIAqSGYAAACqIJkBAACoIoyS2YqRdsOoljh7d1AeLfdAyvzHejSqYRiGYW9wUb/ZW50iR1Ne6xphGIZRo+3o5KNBqSPUds3tZjeM6r3eCc6wq2zr1DYxhmEYRvSQRQfNUFdTYcHdjgAAPtRNZgXrnnd9z5XO+yskV6TAUZAfhOIyvx93Wcch/152MFtEJPfw75/P/nGvyK8fP7/aFBHJ3jzlm61BqCP0CvJyckVyTuQGY9jVdmjPliwREXHsPHDSCHExpyN42xEAoAR1k5nKDnwz9bX9Fvc7HaeCXgsAAAgf6iaziE7PZ5reds7oKiLSZUaq9735SfeeF/TaflvzueuGEftg0hHTzM36Y/Hfm4q06zOqrU1EJPraCQNaV9YOrTUTmtgMwzCM6iOSMytpnQAAQEWRoS5AR2k717tvmYNuTagrIrVjo0REzk54/RfH65X9cNlH/sgTEZGcdTuPSEJMZa8fAACoQt2eGQAAwJkmPJPZ/pR3hnVvZjcMw6jeovv4b3bnWi3lzNjy5cv9L3OdX2nUbNyx/4TPt/zpLGW9BYc+7GszjPj7VxXeMzXRtZ/x6ZUiIseSH3etLaL1lJ8LFzm+9IEYwzCM6tfNScs9kDJ9cHyMYRhRl07c4NrdmZO6Ytqw7s28y3gn5aBTpHA/ZuLUwlWtvr+l67yHrjN3+q/SeSI1eebo/p2axdiNonWWHIRdc7sZhnHdnDQpOJQy5+4eLRu4Fm710Hvrj1rtii3Y9/2/7+zULMa1WOLIWdaL+Rm6zQtf7N+xqeusDnuDi3rdNbVkSSdSk+c/1qNV7FmuUY1p1uMfM77bY/nqlVhhyZfPzE5fNe95zzKGUb1u674WKzz+9QjXj3u9s7vwzeN6OWKa9XjsvZ8szrItPmKWw+tf8tM1jGr2J1eKONKXet6BMc16jPl6V47PsnvmXmczjOjEOSVOlfzhqZrul6/4wq5zYlzPIsZ3E3AW3R9A2d4rqdf+vtnrDlptHYFtR4W1bRMzZc7dl0YZhlHds5mY2elFby2jenz3h2eu2V/alggAYcwMWO/R8xNGzHT9C/y3Ko/1cWZFkkeISPS1ry8Y2zna50lGJZT4pWM/vd7NdzEREXvi7J2OsmooaXiSaZpmatGPhyUV/o7nzqsmzH2isc+vHFs5sUS1ImIbsjjLNM2k4f5etuFJ/krMWnK/1fMSsbV8+acC7yVdhV01Ye7ojjV8lo2OG5F0pNhqnUc3v3Jddd91RiUMvamdiEhXf6+Ke9wW3BFbsiLj4skbipZx7Fp4b0ubReFG7INLd+UUf/VWlKxZRLyH3bH9o0HNqlmPns/7IXVGF0NEpGansdNub1Fy9OJGJmd5LV6QvW1Wot13IVvL8xvXdN8uYzRcL+uwtz8cFOe7lhJvP1dthsW73rWWYj9IndHF8LsJzP71pMWbreSmUcp2ZLF1BLwdFdY2d1i81/LDkvyNZ1TC7F2lDSIAqM+TmsoVnMItmbm+FeJum7Mu/aRpOjxfz5H9FxzwiiWZX90ZLSK2to9/kbo7xzRNsyB728qJneuIiK3tf34rsH6I/IOfD7aMPbGu0FN6MvMxPMks2PRGW6ss4v4mLtg0/lzrAwETZ+/0N0z7P7z57Iv7THpvzbYs1zej4/iOJFeO8RkEr8LsHZ9avC3LYZrZad+McZXUYNyPXmt1rB8fJ4UjdsJRYOZmpX0zpotnbohSs4jfsOg1SvlrnysRU4pEJMwqWn9++gd9/Bwf6Ukwx1Z4h+CSikXPwmTmV/G3xJYpl5S6dIDJTEQkOn7wjB8zsk3TeXSzO7wafT864LVs+ZOZe83Xvu7aBI6sfzUxUkQk2s/9Dcb9WCxCWWxHZs7+9dNub1FshE3TLNd25FVb3G1ztmU5zNysw2kbswrfHkbsg4u2HnGYppmblbF+/tCb2pHMAOiOZOb6RrFf9sIq73ZP5ld3ioh3CDALNk25RERihycdK76KY0kj48Q3lPitRMS3d1V2MrO1fOSTHdmmmXUwbXeOuf/Dmz3fo5tdX2yn9m767IVr6/VcXNSlKfoi9/vcy+JY/s9on0EoKix20IfbvL6bC0NY1xm/m4XfrFmL77KJiPT9MMN7tbl7lwx19ZhKzSLuFYpE3fXVCUeBaZrOo5tX/OuO5te/6O6ZeYetqITJ3+/LNs2CU3tX/OuOOu57Yz0Nv/y1zxXeKZ7oUJC9bcW/7oiIfuJ/xR9RxN516oY/MnNM73ghxZ9LsWRmP//Bd7dlOcz8g97dIE8UdjrWFGW+qITZv550lFhzgMmsZqex6454ZZeDHw+IEBF5ZJnXq1GhZBZ111e7vZqMnigZd9ucbcXW3VV8O5dF21H3aZuyve8vDLutJqW47ynXdlRYW0TCrG3F227u96H/NjAAaKpiySzsjjPr+u/3n72yrtcddS66poshYqzf6Tk0K23tx1slIvqO/r7nOcZcdUNfEfnzh1+rZgL02OHfrP/vgJZ2kdoNmjeLlnrnNHH9IHfF5H99seOk0zSqx7Xp92zyn0tuqF2ZD2w779LL/bWFhr/77q2tvDp3tg5X3SIismpLhhT+zoblHzlFbEMe6FWsExUV1/OZZzqU+ehnN2rquuH4cPKMHzNyRCLPvuSaR99NWzauvesHf675ZJHr/FO569OFI/52rl3EqB53zT8mTXMntoxFG9wHVG1YNjvLXemQadPv7tikpogY9lbXPPpufs6rV4uIrFk6zT3dXNRdH385rH1snWgRiW7UYei89z25asnXPx0vUWrcyCVrpt3RqrZNIhpcNmr0w4X37zt0zHWj2u+rFv7pvrPv/PfuuaimTSS6UYcH3/3RTz/VD6PLK/Ne7FjX61VpcFnPK0VENu7ZW471WBi2dN5NzbxquajLgDoiIsPmfXC39ysd37JTtIj56x6LuVi6/vtfD15SbBdjzDWDHokTkbR1ae4rHFRgOzL6vjv3nlbF+8Q1a9UXEXlr/Jzf/irHswSAMBV2yUwkUopnkPj4Tj7Hqaf/utqUgtzX/lbiigJR3f4jVTgB+sA+xb/DbJffUhgUMmbc2qpWTGziyFnJOzJP99jngkObP3vzvt7t3QdlG4bR8v7V/g/W992hGnexz969nanrckWk01UXVCgvxifc7dpxJo7kkdc0qR51ad8Ji37542RRvbu3LC9wldLyrP0pyzyW/7r3L3d1q7fudT211PWFqev2W66yrOfQvo373TnvtoFXe8f0SNtl1/dz33bsPHC4xK8OuOlar+WbtS5sd24/4E5xxpF9qa6Xx+hyUwevnBrRoHaDwE8CEBGJtvmE5bhml5ZrBYGKqNektWUuj7vYb14vuR2JNDn/chHJ/31fhusnFdiOzPMaNfVdbcO+r8xKtIsj+d6Lz+nYf8Invxz2PQ0CAM4kYZjMTl9kwzpnBee6hzHXTFhbuENQRE4dSJ5yX2KrxvGjVlT8qpuZ3z9+fsu2A4bPWrTRdfGo0Iu/7+MfX+1Wt3B/pXPTl+N6t2tS/7o5aa6QE3HquLsN5kx964FuPbw89V3x5xBx8uQRd+py1K1pHRRPZO4vfPnq1qxT/Ge2yKjTeio7U9e5b5kd4+NPa1UlnG5tVa1Rw+bir8dmJcDtyLC3umfR9iVPd25YPSdl4biB7Ro0atZjyv/+4NxMAGemMzeZ+R5e48X56cCGwbruYVRcz5k7M//Y/MVL/doXhoic9Mm97v3I6vJPZcv8+ok+b6SdMJoMfOu73/48WXhET5kHuVexuh2e+Hb/kR3Jbz92fdPCHJqTdO/Vr28IMALbE9s287kr6uhfJXdH+jj6V1bxO5x5jsAe0I9zGjV33/LeP35mOHBwl4hI10uaet1ZKduRUT2u58Q1+4/s3fTZC4OaVcvau2zkNZ2e5IoXAM5IZ2IyM+s1aWkTc8cv+8v8Yg8Se+wlfUZ/tuHg/vWFM1PkfDV9SYWOdfv525nHRezD5i94OPHCejUtz/wst6bN24uIrNpyWgdARdVuee1Dby7bc6JoPouM5z/4QcRr/2mJqT0KZX93j+sQ+xbxHd3rc3zwyQ+Wr2B8/NWFR0h9+PFK70XynBu+XVhYzpUXVKDnVatBvDtAm6tX/uYV+wr2HUyrgitq1I9tGSkSeehwVnC6uKVwpm5YJiJR8Y3qi0gVbEeugyw/Stv9QZ9IkYy35lq/vAAQ3s7EZJZ/Ydd+54g45720YGdo95gc+Khfvfb3vZ30+/GcfBGJqtPwkualZamUlb8dNMXMTt99tPRDceo2qOP9Re7cvfnHrafxzW5rc82ACBGZPndRsRaUc8eC0RPWlPnrKROatug+fuGGXSedpogY51x8fZPiByC16DywtWuNqePvHvPNtmOuJcVx/M9dv3w+aYC96cjkwmUvuuLmwoef99CDc9fv+0tEzOz0zQtfTDin14KDItL+b3e493M65j/40PS1rqllcw+kzBoyuPBS9LEj+lxd3nEQkYgLO/UtfIneefCpxb8ezS8wT6Qmv9q91e1f5lVghWWoXb1xpIgzde2OA173Oo8lP/7Afyv/0YqsevSR6ZuLvcmOfztjyikR6XXD5a7BrartKKJJx96dxc+BgAAQ9s7EZBZp6/zwy9dFi6y+/29Dpq/dftz1teI8fmiXa1p514T+QfDXicNHN8565LqL6lSPNAwjokbTG2e62wStb76i8ErtRcehO+b3bhRhRNRo2nnqRus1muc0u0REMl4YNdkVWfKObVn6zNXt+s3Osv6FwDTo9vfbokVy5g/oN+V/f+SIiOP4rmVjO7S+dcGesk+WOHEkfde3z/a/vEWtqAjDMGx12xReRMF+2zVtRUSMNreNvdm1lzN788SeF9Z1LWlE16nfol2/Zz7L3bfWs+vwnP5Pe6Z5S//wnk5xZ7mGrm3/51YcPX78pIjE9Lx/ROG0GRkfPHTFeXbDMAx7444PfeA+wTOy/9QRV1VoKGp3uftR97rNjOk3ta4XWS2i9vmJvsfDVRp3yvzirjtcI2/mbF/6zNXNE99Irdq/KnKWPdSp7UPvuU7UyD2Q8mr/W+Y7JTpuxLDr3ec9VNJ2lDZ9cLzrjBCniEhOxpYvJ05MEZEGiZdU8oF8AKCDMzGZiUjzu95fMjIuWjI+eOiKC+pEuc4nq9OwRdv+zy1MCd4f6u75AkqISJj1ycMXF/6vxU2P3hzofAxGmyH/GhUnkrvicVdksdVt02vS2oL4dtZT2gYq5obn5w9qVs19cqVhGNF1WvR4aXPDgbN/fK/MI9hq1bOeRDZu5JIpN7n3DTa6dc5yy8shiIhIRFRXz67HSFvnp757O9F6z2H92meJiER0GvO/hff6m7o2+trXV8+4paKHEsYkjHtnVItavnfbWr4wa1wVHMwXc8PTbyRGimfkI6pf0GvS2pxrX18wtnOlP5hH3G1zZiXKjul3tmtSyxVqn/ouW2wtH573bILXyauVsh3ZDmZ8Oa53uya1ogzDMKqf26bvrLTc6LgRHw6/okqeGwCoTadkFhFtF7HXr2V5WR4RkWiRiKiIklfkia4uYouu5v2DiAYJb2zfkvz2Y9c3bei+5pA99oKOvUfPX7T1j/Gl7+YqOKu+e7Yoe6tGxc4OrN/kYlfQMOrXiSz1TpdGA6f/MPe5fh3i3DXUaNSiU7+Jn23J+O5e7zmfGt36wW/fjOkeXz9aRMRet93Qqff5/VY+O2Hi2vXzH7u+qetB6zTt/ui7KUd/mzawQWREdJR3ARGRdhGJiiyRcSIj7dXEZ2Hb+YPmr1kz79HurlKj61/YZ/xXu1IX3NPYYa8m9lrRfi6EJCJy+ahVK/51R/cL4twprEajFtc/9NZ3v21/w3uKipirnl6ZtvmL14d0L7rMUY1GLTr1Gzsz6bdDL3m/JrYL7vvm0OaFE/t3dD9Lia5/Yc+/T1m4aWa/hu5Fzrt51tYdSTOe6edZxvO4mcmjik0kVj/WPa9KjUbRxQfjrHqu/xd/oWOueW3L1qJHr9EoYcTMdQe2P3tT25aRIgGck2jxhnQVHVVDROzVfKZ9uW9J2pKX+rV3jbzrBd2TNKpD/Fm+C1u9cBW4P1rkRPPz7/12z/rZQ7rH13c9xw79xi/dvmWKz9RlgW9H/mqQFgOnf+39MtWKb9dn/Ffbdkz2joAAcOYwTDPQ44/6jHnnZLb7xLakyUOrrCQAAADtJY6c5bkdeHDSqWcGAAAQ3khmAAAAqiCZAQAAqIJkBgAAoAqSGQAAgCpIZgAAAKogmQEAAKiCZAYAAKAKkhkAAIAqSGYAAACqIJkBAACogmQGAACgCpIZAACAKkhmAAAAqjizk9meudfZjGr2J1eGupBSpc2+rrphVH9a7SoBAMDpUymZFRz64g67YVS/4JWfgvSIeXk5+VKQ68ir+oc6vvSBGMNatcTZuwsXS5nQ1G4Y0UMWHTSLfrcgN0ckJzcIVarE3Dz5/CjDiLp7wcFQlwIlOI+mvNY1wuCvFADhTaVkFrF1xfu5Ijnbv/p5Z6hrqXSH9/2aVfZSaRuXpueKOOYv/9Wo+prUlrb2s1SniHPej7+GuhSEXMG+pc9cHdvxydWmnIF/pQA4o6iUzApaXzs4WsTeqnf7+Epc7YqR9uJ9qVDqOiPV9JWfdO957h+3aNczLlok6q5uF5ulrucM0KJz/5Y2EduQKy8OdSkIKeeOBbe2OK/XpLW5oa4EAIIgMtQFeIlo0Pe9HPO9yl9xrog4CvIrf8WVr8PYvTljQ12EGow2I3c4Roa6CoSYuXlyh8tHbXJKdPzgt9+9cdOVd0wNdUkAUKVU6pkBQHHGkX2b8rqMXpyWmfrePVc0DnU5AFDl1EpmPzxV0zCM6+aked2X/HQN9+mTjvSlL/e/rFENwzCMmGY9xny9K6fUte2a280wDCNhiojIqvtbFh5xX3z9bq6VxxiGYVSv1/6+2esOOq3WmXdsy+eTBnRq5jqav3p85/6TFm49WHl7Hl01Rz9hfYSzmZ3ueXR7g4v6Tli0x3IHT8GhVfOe79+xqfucg5qN47s//HbS7yWGq1xj6zyRmjxzdP9OzWLshavt2H/CN7stK3BmbPnSs0KjZmOrgSprmUDPnHVmbPlyWPdmrvW4hmX7cd9Xz8xOXz7rsR4tG9gNwzCqxzTr8Y8Z31mOXt6xLR+Pu6JV7FmuqtyDvGKk3TDOHr3Ka8E1T9ewPhrd34sYWA1ps6+rbkQnztktuQdS5j/Ww/O8Bk9fa/lOK75aw97gosSRs0q8LjmpK6Z5j5LVMpYCfd1dz/q6OWl5x7ZMHxwfYxhGzcYdJm8oWqLg0OaFL3relrVbtu87YdHWg9llPH6X57NO/e+lG5rbA6gVAMJBiaOe/Oo9en7CiJmuf4H/VrkkDRcR6VLsWCzXfcPe/nBQnG/t9sTZOx3+15Y25zrLp9z3wwz3Eqkzuhj+Vh47POmYzwqPrH810Wr3r73n/G2l1OF+qK4i1seZWSw2PMnrvp2u++77zweDmlXzeejouBFJR4qv4tiKUS1qWT1ve9zI5OLLlmNss5bcH205mraWL/9UULwCR9qc6+pYLev1tAJYpvDVSTJLczRpVIniJerx/3kvk7t3ydAWFuVbjt4TJfoyRuyD38581OcJFI5e8fvchZd8EQOvYeeMriJGlxdmjWtr8124xCvo/+X2fqflpy++r7bFMraWJd/kPgJ/3V3P+qoJc4vVUzgIzqObX7muusV6ohLK2CSK8TvmAKAgT2oqV3BSq2fm35sP37bgUPzgGT9mZJum8+jmBXfEiuQkDR250P+UCs3vXm6appk8QqTYF9Xnt/p897758G0LjnYau/T3ow7TzN27ZHTHGiIZb9465WfvpY5/PaLLk0l59o5PLd6474RpmmZuVto3Y7rVjcxZetctb1f5CYQz/3n7gr2dRy9OO+EocD10W5vkpk8Z8tKK40VLpc0e0PONtBNGk4FvfffbCUeBaZrOo5uXPN05WnLSJ/caaNEvDGhsT2UdrnFxn0nvrdmW5QpsjuM7kkZ3rCHO1Gdf+qTYHB/rXrrmnu+yxN7xqcWuhQtO7d2R/PbQFtHRkeVYJiDm5nmPvZEu9q5TN+zOMV1PduHE/g29jyo0N791Q69Zablxt81J2n7MYZqmmZ2xfv7QFtG56VN6jlhUNHoF+z4c0u21/WI0GegajYJTe9fPHhJ/ePr19/27PGVZ1BloDe7lVz83dLxrL94JR0HBqb0rJ3aOFkmffMf0Dd5jve/DId1cL7erYNPMPpy2ccHYzvZa0YUp3rn1X71unHnc+y2Rs3/93GHx0c7UqT2Gf+372MUE/rq7/DD27jfSat02/9cTjoKC7G0bH+8oIiKZi//Z4anvsqu3eebjjYeyC9fzynXVxZH8QJ8p2+SMP+EFADwCD3Eh7ZlJzU5j1x3x+hv94McDIkREHllWVreqRDIr4u7KSNxtc7ybXgWb3mhpEzG6/Oe3okfcMuUSsWpaHE0aVUfEqP/shlKrcPdRrBT18ErtmZVs8LgXtg1ZnOW+x93hKF65aZqm6Vg/Pk586zzdsXUs/2e0SLG2Vv7BD/pEikjUXV/5dnfKtYwZYM8sabiIGF1K6bu4x6TrDN++pmv9Rt+PDrjvKNj0RlubiMQ+Vazj5tUrrWjPLPAaPC+30WTg+3u8XpSCTVMu8d068tc+V0dEbG1LtC29n//iu0q8mb0fyPvtFyCL173oHW7RyXYNrBH7oJ8OZWxp9RdDzwyATsK6Z2Z0eWXeix3res3x1eCynleKiGzcs/e01z5s3gd3t/Lac2S0aX+TU8Rcnbrf84hpP36yRcQ++OZr6xb/5bMTbrxHxMxaubGKp+UYOuuVhOKPHd9n+IAIEee3v6S6Wg7On76ZkSsiwyY8cKHPfGi2Drc/28UQM/P9pRuK9ydOY2xt5116uc/jnExZsiRPxP7I3TfVtf6lwJYJVPV650aKufrFt1b4OdrPufarGbkiiUMTW/nsHIxPvKeLiPnNhu3uO3b/9PUmpxgXP37r1cUWrNvhibH/PJ0iy1GDx8Oz37u9qdfgGm0u7SYisnpr0Yvy2+pPs0Sk06ODLvM7/Z1z/ZL5Tom4duiNvm+JFgl3dxWRJSmp5X0+Fq97IXvP/3v/7hY+zzJt7WebnGIbfIfPG1hiulzfT0Qylv+yq7w1AEC40iSZiUTbfL4K4ppdWnWP1qy1b4drz9ZVIpLzyt9KzuGfOFVEnLn5gUzLYdW6K7F31VpUZInDjho0adc4UiTj9wzXHqn0netFRBLbNiuxqEh8fCdTxJl6KMv3SzXQsS04tPmzN+/r3d59zL5hGC3vX+2Thw5npOaJRF3Ztrn/ZxLIMoG64h/vDIsTSZ+c0Mie+I8Z35U49j99zy8iIkn3xpd44eLvXyXe05bu/uU7ETG7t2t/+nVVtAaPki930xJvykN7tohI1JUXlDL/395dP4tIQfLQ5iUeu+X9q0TEkVfWtK2BvO6Fci5s0rBEaNu7dZWIOF4vufFEdX9LRCQnn72ZAOCmTTIrwRYZFeoSiqlf+6zgP2iDRufliUjqgT+97217XovTW63V2GZ+//j5LdsOGD5r0cYyT6cTR9vzzquMZQJwdsLEtevnD20RLY7ktx7odkGd2p2e/npLOeYkjW1QJ+Sx4LRq6HBB7Ok89nn1apb243K97hVkr1+rRhWtGgC0o28yCwWL8xALFXw+qGHwCzp0YHekiHSKL9Y0Wbez0q9ulfn1E308J19ZdNcAACAASURBVBb8ebLwOKLCA/V8RW3aXea+3UCWCYitcYe/z9x54viOpBn/uKKO5Kx/5cZLe832GYK7vsr0s0P/j2f87wqsXFVUQ8q2jDKXibrrqyw/j71rbCf/v1fO171UrSal+CkhO8C2MQCcCUhmgTHPaXaJiDO1cL+hGvb8nnwwT2wtCzsudes3ixaR1Vv3WkzGtnPnOkMkKqFC+xB//nbmcRH7sPkLHk68sF5Ni52lbrViGhsijm3b0v2vLJBlys1Wq2XCff/5cVfSqLY2Kfhh4oINxcZkzdayj6Zy7y5cvzOgUwVdbwmRo3+VeUHUctRQLrXqxYlIxJbdpcyod06j5iLiTNlRobQe8OteqgbNLhGR3b/uV2njAQBFnSnJLCJle9mNhVIYF3a4oYaIzJ/08XbLKWir3ttDRiYf9b7DuXXhG0l5YsQMvsrdcYnp3KeXiMibb36y1+e7OvPrSaNWm2JPvOeGZhUuoW7xnW7O3Zt/3OrzOO6zBzKmzFxUrFjJ/GHSFUMWZQW6TEWdnXBjotP7cDr3mOz414zio2ehedtudURk3b8/21Ds/qMprw3/b4mljZq1G9hFZOm637zfEc5tMx96am3xRctRQ7lcemXfaJGc716f/XPxOXx3LOh111TXnC912lyXGCnmr6/PT86s6OME8LqX6qIuA+qION6Z+M7vId9xDACqC/9kZtZr0tImBbnvvb9oX45I7oGUsqcdt2C76oE3EyNFVt3f7a65yTsyXVPkm9npronsi88OXyVy06ckNk58efnek05THMd3f/5QrxFbROTKl+/ynErYqMfwJxqLmF/c0fXWmWv2n3SaIs4/d/3y8bie/WceF4l96MneJQ/QLpu7P5TxwqjJ6/f9JSJ5x7Ysfebqdv1ml4hRLW569OZoEcf8gT2f/tp1PH7ugZTpgy/v9szarL9OBbxMYFaMrNf+vreTfj+eky8iZnb6hjdefltEjL6e66C7xsTMmH7jtaMXbth10mmKiDiOn0hNnvnPK6v3esezTzWi44DnLxFxbhrT++HFvx51ipjZ6Slz7m7X8clNFnG8RefeLUXk0PgB/1iw46TTdC18cZv7lx/1PaY+8BrKxfjbnWPPjRTnpjF9b525Zn+OiDiO71o29toLbv1m6TH3Qs1uHvtYnEjG1B7XPPHlzows1yF4OccP7Vo+67GEc3rNKeWxy/G6lyai012TE+1irn70+ls9L5Y4jv+565fPJw2wNx1Z1mUeAOBM4ufIDwuhnM/MasIqq4WtFE4E5VH0K35nzNppNYu742jSqJZ+9uf4TDpf0uleA8Do8sKscSUfveTlB/xdqEAkdtCHPsuWY2wtp9qvFd+ura3kAB5LGllyWZ/52AJYJpD5zJJHWM1Q7zulluP3Gd3qWg9KRMKsXcVHr+TM+9HXvu6ev95nHq1yXDAg8Bos33uu8bB6U/4+w+rlLjYCBdnbZiX6ubhRVMLsXb4P5C3w192yPI/cvUv8XJpCIqKfKG3j2T3Hz/tZRMS4ePLvZoBzoQFAsIXDfGa2qBoiYq9WrKsTXV3EFl3N97pE1gtbMNoMX7nipX7tG1YXEXudpt0HX1V46mJkpL2aRERHlfzkj4i2i9iLz0dvOzvh9Q2/Js17tPv5jd2ns0XXv7BDv/Fvfffb3levLrGO4iuMtEeLeM3M7ncxEYmKLPbAEdF2sUWf3+2FrTuXFD4RqdO0+6Pvpuz++u8+U2TV7fDEN4c2L5zYv2PTOp4iE0bMXLor7aNbfafTCnxsXadAPna9e6WuRz/627SBDSJLDGBMwhvb074Z069DXB0R15g/8n/Lt+2Y7DWdVQDL+H91ivzt6fWfTh16UzvXmEiNRi2uf2j++t1L7yk2pZbtgvuWpP7sGhN3kqvRqMX1D016b03aknu9zxCt2+GJ9SUGeU/SqI5trPqsMde8vHXzvEe7uxaOrn9hn/Ff7Uqb1i0+MrrEixh4DVbvPRE/7w3bBfd9nb6+6D1Zo1GHfuMXbk73HgHD3ureb/ds+uyFfh3i3AMl9rMv7nPffz5Yt/Ore0o9Qzbw192yPI+ouJ6vbdn67cxHu18QV8fz9Dv1GzszadOeF8rYeADgTGKYZqBHfvQZ887JbIfrdtLkoVVWEqCc5BFG4lSR4UnmlIRQ1wIA0EPiyFme24EHJ7V6ZgAAAGcykhkAAIAqSGYAAACqIJkBZXOdEhFTXa0rggEAwk9p570BcLnqlb/MV0JdBADgDEDPDAAAQBUkMwAAAFWQzAAAAFRBMgMAAFAFyQwAAEAVJDMAAABVkMwAAABUQTIDAABQBckMAABAFSQzAAAAVZDMAAAAVEEyAwAAUAXJDAAAQBUkMwAAAFWQzAAAAFRBMgMAAFAFyQwAAEAVJDMAAABVkMwAAABUQTIDAABQBckMAABAFSQzAAAAVZDMAAAAVEEyAwAAUAXJDAAAQBUkMwAAAFWQzAAAAFQRGeoCoBxjxPee2+aUa0JYSQWcPXpVZnae67Z2xQMAQM8MAABAFSQzAAAAVZDMAAAAVEEyAwAAUAXJDAAAQBUkMwAAAFWQzAAAAFRBMgMAAFAFyQwAAEAVJDOUJr/ADHUJFad18QCAMxPJDAAAQBUkMwAAAFWQzAAAAFRBMgMAAFAFyQwAAEAVJDMAAABVkMwAAABUQTIDAABQBckMAABAFSQzAAAAVZDMAAAAVEEyg6+oSN4VAACEBt/BAAAAqiCZAQAAqIJkBgAAoAqSGQAAgCpIZgAAAKogmQEAAKiCZIbS5JmhruA0aF08AODMRDIDAABQBckMAABAFSQzAAAAVZDMAAAAVEEyAwAAUAXJDAAAQBUkMwAAAFWQzAAAAFRBMgMAAFAFyQwAAEAVJDMAAABVkMwAAABUQTIDAABQBckMAABAFSQzAAAAVZDMAAAAVEEyAwAAUAXJDAAAQBUkMwAAAFWQzAAAAFRBMgMAAFAFyQylyS8wQ11CxWldPADgzEQyAwAAUAXJDAAAQBUkMwAAAFWQzAAAAFRBMgMAAFAFyQwAAEAVJDMAAABVkMwAAABUQTIDAABQBckMAABAFSQz+IqqZoS6BAAAzlAkMwAAAFWQzAAAAFRBMgMAAFAFyQwAAEAVJDMAAABVkMwAAABUQTIDAABQBckMAABAFSQzAAAAVZDMAAAAVEEyQ2kKROMrNWldPADgzEQyQ2kK8gtCXULFaV08AODMRDIDAABQBckMAABAFSQzAAAAVZDMAAAAVEEyAwAAUAXJDAAAQBUkMwAAAFWQzAAAAFRBMgMAAFAFyQwAAEAVJDMAAABVkMwAAABUQTIDAABQBckMAABAFSQzAAAAVZDM4Csywgh1CQAAnKFIZgAAAKogmQEAAKiCZAYAAKAKkhkAAIAqSGYAAACqIJkBAACogmQGAACgCpIZAACAKkhmAAAAqiCZAQAAqCIy1AVACbuP5nhuZ2bneW4fPeU8esrpun1eXXuwywqM1sUDAOCNZAYRkRGf7/x8858l728+fq3rxrUtY5L/cWlwiwpUmcVfHlcrZeRlwS0KAICKYG8mRESe79Gs9AWe7V7GAiFUZvFjuzcNTiUAAJwmkhlERC4996z7r4z199PbLmuQcH5MMOspl9KLv6l1vV4X1QtmPQAAVBjJDG4DLj3nrOhq1j9qe06QiymvUoof1K5+dDUjyPUAAFAxJDO49bjg7FsurV/y/lva1be8Xyn+ir+pdb1B7RsEvx4AACqGZIYit13WoGTnqX8b1RtmLpbF0zADAOiFZIYiJTtPN7c5Z1A71RtmLiWLp2EGANAOyQzF+HSeBrWrXy1Cm55TyeJpmAEA9EIyQzHenaeb25zTX/kjzLx5F39T63oDtCoeAAAhmaGkWy6t7+o89W97jnY9J0/xg9rVr2Hj7Q0A0AzXAICvGy+u263V2emZuX/v0DDUtZSb1sUDAEAyg4XnezTbdSyn7OWUpHXxAIAzHMkMFi4996xLzz0r1FVUkNbFAwDOcByIAwAAoAqSGQAAgCpIZgAAAKogmQEAAKiCZAYAAKAKkhkAAIAqSGYAAACqIJkBAACogmQGAACgCpIZAACAKkhmAAAAqiCZAQAAqIJkBgAAoAqSGQAAgCpIZgAAAKogmQEAAKiCZIZSFRza8Mb1jWoYhmFED1l00Ax1Pf45dyx4PL62YRhG1PkTNyhXaO6BlOWzHuvfsalrMA2j+rkXduoz5p1vdueGurRizOz0zZ+9eV/v9q1iz3IVatRsHN+5/7hZyduPO0Ndnduuud1ijLJEXfrf35V4G+QeSPl80oAeF3peesOo2Ti++8PjZiXvUevFL1T+rd7M2b5q3vP39W7veY72BhfFd3940sKtoXiOORlbvpw5un+nZjH24u/h8hWj9qdfpW6qzl1zu3m/dgp+hJ5ZzID1Hj0/YcRM17/Afwv6yt27ZHTHGkXvla4zUkNdkh/H1s8e0tJWVOnwpFBX5MU1jNF+N0F7x6cW784JdZWmaeYf9BlGX7aWD32V7gh1maZpJg0P6MMt9G+D/PQlT3euU0qJygypR3m3+oJTe8t4jlEJ//npzyBVbzrSvhnTrW6k/wFv+9SyvYEMuNKffpW9qRZseqNt8bWFftsJF57UVK7gRM8MlnJ2fz60dXyvl9efCnUlZcg9kPJqt9iO985LVaWhU9yhTwaf1+vl9af8/62es/6VG68eveJoEIuy4kx5uUMZw+hMnda785PJmcEr6nTY2rZsHNq/+9NmX39+r0lrs0pZRK0hLf9WX7Dvo9talPEcHcn/vHLgzJ2VUF+ZDnw06KIeLy0/mud3CeemV7pfUdaAK/7pV8mbqpmzfdbDozY5RcTu/w9IBBXJDL7yjm2ZPrh1836zFc06RZy7lo3t1LTjU99lh7oS/05k7jdFROo07T7pvTXbslx/xzpy9q+fdnsLz+dg+uQ7Xl0ZuiJFRNI3Lk0XEanRKGHEzM9+SsvKzjNN08zN+mPzF17Ng4xpr36lym4do0tpfQzHL/+40AhhdQc+GvVIUo7rds1OY4uG1Mw+nLZxwVhPnynjzX/O2SYhHtMKbvURO9Z+mSciYmvbe/T8/+08dsJR4Hrb7Eh+e1Czau7FHMlj5q0JwsfJXycO54qI2Jtf/6L3ezhj/fyiYiTjzVun+NvadPj0q+RNdfeHj/xzlYjI+Q/OfPG66lVVNcol8PYaezPPBI7fZ3jtC7B3fGrxyomd3f9Tqp9vHksaGedJNtHxg2f/+J5nH5dCrfjdc66t13P04rRsi58dSxoZV7QpDk8K5V6t/IML7ojt+NTiLQdOWf00/YM+he8Ko+9HB4JeXnHuvZmlJ7PQyj/oGbGIhFnbLF5aR+qMroVD2uU/vxUEv8aiUiq81RdsGn9u5O3T1ljujnc61jzRuPAp1n92Q1WVXyRtznU1O41dusuqmmMrPMWI2C0/IvT49KvcTfXgxwMiRESM2Af/t/OY5y2p0Eeo5tibiUqwd+Vc176Amp3GLt2VuW7SDY3P8X/QRij9/OXk9FwRsbW8fdqaPTveu+eKxmX+Tgg0uzv5zyUv3dDcbvGzmITnpt3lObxj/c60EDZOIhoMfPePdZNuaN3Q6o/miCYDHnuo8D+Hj58MYmGaitjqbiaJ3DlyQCuLQ4Js8YNGu199c3Xq/lC29yq+1Rttxu5zvv9g52ZWu8EibZ0ffNH9VW8ezgrCLtvmdy8/uXZ8j/Osqom5Zsz/3Vn4n5x1Oy12r+rx6VeZm2rmFyPu/LRAROx/n/7K1S1CfUgFCpHMUIKt5e3T1uxc4+cDTiU1O41dun3L+w92bhjK77XTUPvCqzsV3l61JUPUfRq2aoXhwhZdrVqpi6K4ujX9HB9fu3pd1y4zW8sGdUK9h7iKt/qI6KiQZ5w6F13TpXALW711r/VC+nz6+RP4pnp86ZND3s8Vkcj+81+9sbSzOBBkId9YoJb4u77OurNmbbv6371XjT3peLWmrZTzkzTT9ZJYMUXVcLZ147euG0bL3u3OC20tWmjWuqvIKhGR5et/ciZcXvKNam7+eZFNxClGzOCrLgvl615lW33mtrWbXbcib/3bpZW99tPRpXXTknfq8+lXmkA31czvJ9w7I0tEohLefnWgrn/chil6ZiguqrYmH0y2euEQy/akbnDfimxYJ8ZU9NPxaMprjz2xRURE7H2eva19iMvRQoubHr3Z1XXZMvbel1f77icyc7bPGT4m1Ski9oRXhlwd9PqKqZKt3rn781EPzTwuIiKxzw+7sXZlP0C5pf/6U2Frsn6tGhYLaPPp51fAm6oz5T9/f22/iEiX/84YEh+c6hAokhkQMubmnz8tPMH/omtaK/dnq+N4xpYvZ/7zyhYdn0zKExGJG7lk9q3KHM9nbni8pffcstXPvbBTr7umfvLL4ZxQlyYiDfu+8laiXUTEuen5rm0GT1/rOVHOkb507N/aD03KEZG4295++84WoSuz8pnZ6ftT3nm5f+cL+81OFxGxJ85e+XhIm4IuWzd+6568xtb2+ksbhbaYSlbOTdXc/O+hL6aLiHHx5Ol/j9f/T9xwQzIDQsW56t1x7pPzjb7P3HxRiMsRkYJDX9xhL4o60XXObdP3/v+uyRKp07T76MVp29+4tm6oa/SSU3warZyMbeuXvjNiYLsGMS3vmPPbXyGqys2wt7pn8S+zXOFMMj546IpG1bqOm5X88bgrGjR1zZVlv+yFVevfv9vq/ACtmJsnNLF53jURNZrGdrxrzMKfc8Vet93QWWt3L72nRcifYp5z7bxXXc0ksV/3+C0XhD4pnpbT2FS9JjCLfemd4ZfoekBdOCOZAaHh3DbvqdfcU1nGjRh+Y1MFvioitq5432JO3Oj6F155Ta/2554V/Ios2aKsdkV5yd35/r3tegdndtNSGPZW9367p2i6dnP1hPsSB01YmyUSHT941trda57tolyjtALS1i7JsJjctVb8hV1vuKb52Sp88zv3zBvl2nknEvvQk721H/bT2FQ9E5jFjXzvHwr0MlESyQwIATNn+zuPPLratXvLNmTac9eG/igcESlofe1gi+/R3MO/u3pR53Qel6zAmfVXjd+fdTBt15HsolnicrOyDqb9MPc579lN/5kwMvTVRjS4/Lbx/x7le/2i3L3rlv+8O0PN62aWV4vOvWItTiY7sXPjVy/fldiqcfztc7eE9Jk6t8174OFVrttRd00flxATymoqRYU31UOfPDH0u1wRI/bBeWPU+NhBCSQzIPicae/eWzhBfOzwb6beoMgHZESDvu95zdKZm3U4beO3Mx/1TL/517oJvdopEHeiatdu0Py8unZ78Xu6Dnn+o7Tdi+9zj2Zu+pQ3v90fohJdcnYtG3tVzabu6xdFJQy9qZ37AoXO1A8euuK82on/3XBE3dnmA2S0GbvP6fO2WTixf+GlGHPSP7zn0l6zt4foebr+CnIdfRUdN2LplJtU2iNfURXcVItNYJYQDgMRnkhmQLAdS34m4f5VriZC3Mj31P0LPqr2Oc0v7Tb0X8v2pS24I9Z1X276lJ4jFh0PbWGliGjS/a1lntnel3z9U8hKLdj39f0NW/R4abXpniXrQE7SzK9+3pi1t2j/piP5n5e3vfOjUIWWqhFV+5zml9789Kfr9q5/pfBqPwXJQ295+9dQVJO5Yky3oYV/BT0879nwjCOBbapMYKYLkhkQVMeSH+/U4410ERGJu23O8klKHVNvzageN/CdpVMucf/X8c7MpQdDWlCpIm2d+/zdfSCaY+eB/aG5skJm8hNdbpx5XESM2Ae950M2qsd1uGfulqLUkrHgtoTXN4R6ptkqEN2ow5OffeK5ysWWCR/9HOwSMpNHte012bW1xQ76MPlVZf8KqiSlbarm5tlPMIGZHkhmQPAcTXntlu5vuM7HjEiYtXy+PuflGW16Dyu8qJ75xY8haX8ErPH5hRM5hejKCgXrpvZzBYKohP/737SSE8pHN+rwxKKNhZcpzHhxzLuqXCe+ctW+/s773TfNP5f/FNRzMjI3vDGwl+sabmJPnL3y3Vu12dpOi79NNW3tx1tFRMSRfH+x6WY84u93H4wnUxPdd9kGfBye70y1kcyAIDma8trAK92zDUUkzPplyb16fVHEt+xU9kKq6XqJxVzvVc75/QcvuGf0eGScv2k8DXurgU+7r+SY882n3x8KTm1BZmvRvmvZS1W+zA1vDOzy+HJXLOs+bd1iBWbuCJpK3FTzPlv1K921oCOZAcHgHcuir319zSf3aDeN0K7dmwpv2qOVvq5b5pbkFNetqPhG9UNQQPrO9e5bXVo3LSUQ1DnLU13YXid+/47CfZjBu+JqsVjWderqDx5sYy/rd8KJ9aZaK6Zx+TNWZP+uF9MzCzqSGVDlfGLZyk9Hdqyr29+hBfvWLvzefdvocVmrkBZTup2fvPqBe5KGXjdcHtrTXlNW/lbKKQhZJw8X3qxfW5XZ4ipTnnPtl++4J+0z6lwdlCuu+sayL4e1V/9Qzsrkb1NtcMsn+WapdhbuXpfhSe67nJ9yRFoIkMyAquXcNtMTy2p2GqtmLDvwUb+zOo/7fMuffk4SdO6cfdvdX7pnE43sd8c1DYJXW/lkfj/m9mGeieIe6BWSa0nFxXd033LMf/C55EzrpTK/f+mBd103jYuuubShfq2JlAlNm94+95vd/iYry1z59MDC+V2l2WM3Vv0VV3N2zrzJE8sue+G78Itl4bOpipibJ19fz2YYRo22o0vOxVP6Tx3pSx+Pr20YRkTcoJDPKV3pSGZAFXJum9nzkvs9sSx5yYsKxjIR+evE4b/WTejXpn7D1n1feX/t9sOn3JeedBzP2PLl9MEXti6c5kNsbV8cc0vI/ow2N09oYovv/vAr76/95Y+TR/4q/HpyHP9z1y/LZz3Wte61L693NWnsidOfDdFEcbZ2fUYVzkmQMbVHx74TFv3yx8mTTlf2ch4/tGvzwhevj+9WmFrsfZ697YJQnKlwmk4cSU//8J6ezWPiuz/8dtLvu4/muF4P16Uzx3Q6N9F9XqSIbch/H6vq4xSdO2d2K3yj2i974btvn+0SZrFMNNpUA7Dq3XHLj+aJSPbmiXNXZ5Xrp3989/obaSdExNz38Wuf/BSUeoOo9Oamt96j5yeMmOn6F/hvQS/5a5+LC/CtE/fShlAWmv5BnwCPdbL3/TAjVGWufLKM6wgpMqRZS+4P7LC32EEfbnOEqEjTNE0zaXhgL/plL6w6Eso6jyWNDHhLum1OaihLrfhWv8UzPUPpbG2fD8arkfRU9QCfhojIeePXVtY4BFNVbqoWezOrlPfG3GWG70ZQ+k9TZ3idWRKccivEk5rKFZzomaGYXZuWp5e9lIiI7Fsc3HPgi4vYsfZLi0v1Wcn5Ys3vVVuMf07HqXIsnX7Iz36vKle7+4QfPNOf+hEdP3jW2g0hnnqg4Pwud8SW8c1kdHlq2fY1Ie6XxCS8lrJyou9FmUpwX9Tcz+mbQVLhrf7iB79e8nQZz7Fmp7FLt697LiivRm52ORbefcT3mvdafPpps6kGwPsCuC0bnVOun0ZEFp3U0aqRIhdRqTQkMxRTv8nFgZ4y2OTGy0P4fWKe0yywP9dF7H2vuLBKaylFrXpx5TgFM65ByObBjGjQ4Z6527P2blw64/Uh3c9vXLOwbHut+HY9/z7ls5/S/vzt3Xs7NQzxZ31Ek4Hv7t6XtvGHuc8Nvand+Y1rFv7AXedb3/12IveHSdfHhf47KaLBVU+vOZa9rUSpEl3/whbXPzR2ZtK2rOM/KXBR8wpv9Ub1uJ4T1xzL3rbp06k+L0fsBR17j56/aOuRP9eOLzmdW5Uox2eCiMh59Wr63KPHp19Vbqpn1YsUEanRKDgnX1888HnX5aSqt3nm7i6+Cb/0nzbp+sDQFtEiYjQZ+PStlwej3CAyTDPQw077jHnnZLbDdTtp8tAqKwkAAEB7iSNneW4HHpzomQEAAKiCZAYAAKAKkhkAAIAqSGYAAACqIJkBAACogmQGAACgCpIZAACAKkhmAAAAqiCZAQAAqIJkBgAAoAqSGQAAgCpIZgAAAKogmQEAAKiCZAYAAKAKkhkAAIAqSGYAAACqIJkBAACogmQGAACgCpIZECTJOzJ/+eNkqKsIf4wzAK2RzIAgeXHZnue/2RPqKsIf4wxAayQzIBg++eXwitTMr387uvjXo6GupXySd2Qm78gMdRWB0m6c9Rpeb/pWDiguMtQFAOEvv8D8aONhEXHkFXzyy+EbL64b6orK4cVle0Qk4fyYUBdSNh3HWaPh9aFv5YDi6JkBVW7BxsOfbDzsuv3JL4e/2XYstPUE7oMNh1akZq7effzzLX+GupayaTfOeg2vN30r94fDE6EOkhlQtXLzzQWFcUFETubmf/qLHl9mnsodeQXq16zdOOs1vN70rbwUHJ4IdZDMgKq14OdDn28u9u318cZD6rdzpHjlCzYeVvzILe3GWa/h9aZv5f5od3giwhvJDKhCx3PyvRs5LpnZeep3Gk45C7wrdx25FcJ6SqfdOOs1vN70rdwfn8MTQ10OQDIDqtKCjYcWbT1S8v6PNx5S/Ly2D38+7FO5ykduaTfOeg2vN30r90e7wxMR9khmQFU58pfzYz89m8zsvE82KdrOEZHjOfkf/XzI505lj9zSbpz1Gl5v+lbuj3aHJ+JMQDIDqsoXW48u+93vYSsz1+zffvhUMOsJ3IKNhywrV7MFpd046zW83vSt3B/tDk/EmYBkBlSJ/AJz/LLSTvVy5BVMXJ4etHoCp1cLSrtx1mt4velbuT/aHZ6IMwQzzQJVolqEsWtsJ9ft7YdPXfDyetftVo3O2vbU5aGrq2xltqCG/S22Vf0awSypFNqNs17D603fyv0p5fDE29vXZxJdhAo9MwBFtGtB6UXf4dW3cn/CrwWIsEHPDKhyzgLDczvKKGXB0NOui/FUpAAAGyVJREFUBeVN/XHWd3j1rdyf8GsBImzQMwMAnFnCrwWIcELPDKhyeXn5oS6hItRvQfnQa5y1G14PfSv3CL8WIMIJPTMgqKIj9fwq0w3jDEBTJDOgyjlMLVOCXi0o0W2ctRteD30rtxQGLUCEGZIZgLLRgqpS+g6vvpUDyiKZAUFlr6bNN5leLSgf6o+zvsOrb+WWwqwFiDBAMgOqXF4+H/3BwDjjNNEChApIZgDKpn4LSmv6Dq++lXuEWQsQYYBkBlS5vPwCz21bpDYbnXYtKL3GWbvh9dC3ckALqn94AQAQHGHQAkQYIJkBVU7TI4z1akGJbuOs3fB66Fu5JVqAUI32GxWglyj9v8m0wDgD0BQfXkCVcxSYoS6hIvRqQYlu46zd8HroW7mlMGsBIgzwLgRQNlpQVUrf4dW3ckBZbFRAUEXpc4ixXi0oH+qPs77Dq2/llsKsBYgwQDIDqlxeflh9kymLccZpogUIFfAuBIIqMkL1Xo4l9VtQPvQaZ+2G10Pfyj3CrAWIMEAyA6qcs6Cg7IXUo10LSq9x1m54PfStHNACyQwIqkg9ewx6taBEt3HWbng99K3cUhi0ABEGSGZAldO0x6BXC0p0G2fthtdD38ot6fW2wZmAZAYElaY9Br1aUKLbOGs3vB76Vm5Jr7cNwhXJDAgqjT76te4lqD/O+g6vvpVbCrMWIMIAyQyock79v8nUDzqi8zhrMbyW9K3cUpi1AKEpkhkQVJp+k2lXtl4F61WtN30r9wizFiDCAMkMqHJ5ek6YpF0LSq9x1m54PfStvExhEDQRBkhmQFDZqmm50Wn3jaXXOGs3vB76Vm4pzJ4ONKXThxegKaeeRxjr1YIS3cZZu+H10LdyS2HcAoSmSGZAlSvQ/+QvLVpQ+o6zFsNrSd/KLdEzgwrCaqMC1GfT5+QvvVpQPtQfZ32HV9/KLYVZCxBhgGQGVDlnfqgrqBDtWlB6jbN2w+uhb+VlCrMWIDTFuxAIKpueu0vUb0H50GuctRteD30r9wizFiDCAMkMqHIFBVo1cwrp1YIS3cZZu+H10LdyS2HcAoSmSGZAUNmqhbqCCtGrBSW6jbN2w+uhb+WWwqAFiDBAMgOqnMPU8uNerxaU6DbO2g2vh76VWwqzFiDCAMkMQNn0akFpR9/h1bdyS2HWAoSmSGZAUEVFarPR6dWC8qH+OOs7vPpWbinMWoAIA6p/eAFhwJnHIcbBwDjjNIVZCxCaIpkBKJv6LSit6Tu8+lbuEWYtQIQB7TcqQH3ek4xH6TOVpXYtKL3GWbvh9dC3ckALqn94AQAQHGHQAkQY4F0IVDlnflEvR6MJk/RqQYlu46zd8HroW7klWoBQjfYbFQAAQNggmQFBFanPhEl6taB8qD/O+g6vvpVbCrMWIMIA70Kgyjny2V0SDIwzgDBAMgOCyqbnIcbqt6B86DXO2g2vh76Ve4RZCxBhQKcPLwDBRAuqSuk7vPpWDmiBZAZUOYf+J39p0YLSd5y1GF5L+lZuKQxagAgDYbVRAeqLMsyyF8JpY5wRIFqAUA3JDAiqiAhtrsynbwtKdBhnfYdX38rLFGYtQGiKdyFQ5Zz5oa7gtGnRgtJ3nLUYXkv6Vg4oi2QGBJVN9VaONfVbUD70GmfthtdD38o9wrgFCE2RzIAq5yzQsq+gXQtKr3HWbng99K28TLQAoQKSGRBUERFabnR6taBEt3HWbng99K3cUhi0ABEGdPrwAjRVbCpLfbY5vVpQots4aze8HvpWbimMW4DQlPKfXgAUoFcLSjv6Dq++lVsKsxYgNBVWGxWgPo2mstSrBeVD/XHWd3j1rdxSmLUAEQb036oA5TmZyjIoGGecpjBrAUJTvAuBoNL0ksnqt6B86DXO2g2vh76Ve4RZCxBhgLchUOXy9Nxdol0LSq9x1m54PfStHNACyQwIqkitejkeerWgRLdx1m54PfSt3FIYtAARBkhmQJXTq5fjoV3ZehWsV7Xe9K3cEi1AqIZkBgSVTc9DjPVqQYlu46zd8HroW7mlMGsBQlM6fXgBmtK0x6Bd2XoVrFe13vSt3FKYPR2EAZIZgLLp1YLSjr7Dq2/llsKsBQhNhdVGBagpz+u0fI0++rXrJeg1ztoNr4e+lVsKs6eDMEAyAwBAJOxagNAU70Kgynn/UR6lz2n5erWgRLdx1m54PfSt3BI9M6iGZAYAAKAKkhlQ5RzFegwhLKR89GpBiW7jrN3weuhbuaUwawEiDJDMAAAAVEEyA4Iqspo2G51eLSgf6o+zvsOrb+WWwqwFiDCg+ocXEAYceVz+JRgYZwBhgGQGBFVkNS2bDOq3oHzoNc7aDa+HvpV7hFkLEGFA+40KQBWhBVWl9B1efSsHtEAyA6qc0+ubLMrQcvIkLVpQ+o6zFsNrSd/KLYVBCxBhgHchAODMRQsQqiGZAUEVqc+RLPq2oESHcdZ3ePWtvExh1gKEpkhmAAAAqiCZAVUux+vkL1uElj0G9VtQovM4azG8lvSt3COMW4DQFMkMAABAFSQzANb0bUFpQd/h1bfyMoVBCxBhgGQGVLncPK/Lv3BafpVhnAGEAT68AABnrjBuAUJTJDMgqKKqaXPJZK1bUOqPs77Dq2/lgBbYqIAq5+Dv8KBgnAGEAZIZgLKp34LSmr7Dq2/lHrQAoRrehUCVczjzPbejI7XZ6LRrQek1ztoNr4e+lQNaUP3DCwCA4AiDFiDCAMkMgDW9WlDa0Xd49a3cEi1AqEb7jQrQi40DWYKCcQagKT68AABnrjBrASIM8C4EqtwpR9ElkyP1PJBFixaUvuOsxfBa0rdyQFlsVAAAAKogmQFBVS1Cm16Ovi0o0WGc9R1efSsvEy1AqIB3IRBUkWH1RaYuxhmApkhmQJVz5OWXvZDa1G9Bic7jrMXwWtK3co8wbgFCU5GhLgAIfz8/frnntqbfZFq0oPQdZy2G15K+lQPKIpkBVe68uvZQl1AR2rWg9Bpn7YbXQ9/Ky6RXoEe4IpkBsKZvC0oL+g6vvpWXiRYgVEAyA2BNrxaUdvQdXn0rtxTGLUBoimQGADhzhXELEJoimQEAzlxh1gJEGGDWDAAAAFWQzAAAAFRBMgMAAFAFyQwAAEAVJDMAAABVkMwAAABUQTIDAABQBckMAABAFSQzAAAAVZDMAAAAVEEyAwAAUAXJDAAAQBUkMwAAAFWQzAAAAFRBMgMAAFAFyQwAAEAVJDMAAABVkMwAAABUQTIDAABQBckMAABAFSQzAAAAVZDMAAAAVEEyAwAAUAXJDAAAQBUkMwAAAFWQzAAAAFRBMgMAAFAFyQwAAEAVJDMAAABVkMwAAABUQTIDAABQBckMAABAFSQz4DTl7Fo2tmuEYUQnztl9uusys9OXPnNFjGFUS5x92ivzy5G+dEynmoZhXDcnrcIryTu25fNJA3q0bGA3DMMwards33fCoj25lVgmAJyJSGZAxTnSl47pVK9Fj5dWmyLO3Pz801lZzq5lY6+q2bTXpLVZIgWOgtNamR+u5Negaa+X158SkZx8s4Lr2Tz5ooZt+j3z2bKdh11h7MTOjV+O631Rx9HJRyuvXAA485DMgIrJ/GHSFQ2a9pq4/8bZP743/HRX9v2r3eq26PFS+q1z1s8eUin1lXQ05bWrajbtNSn9hmlrFt9X+3RWZRzZd7T10Le++23XkWzTNM3crF0L740Tyd48cdi7v1ZWwYVyUldMe7n/ZY1qGIZhGDUbx3d/+J2Ug86Krazg0OaFL/bv2NSzto79J3yzu0p7fc6MLV++3P+yVrFnGYZhGNXjO/d/efnenAqtK2VCU8NKZTVZC9Y9b/0AFW0Jn0hNnv9Yj8LnXqm91cKXMsaojDeGiIjkHkiZPjjebhjRT6y0+nlO6oppw7o3q5y3IuCPGbDeo+cnjJjp+hf4bwFhaueMrtLxqcW7c0zTTBouIkaXGaml/cLKJ2uIxL78U4HFz1JnXFuv5+jFadmmaSaPEBHpWvrKKiJ1RteancYu3eWpWEqvOH/tc3VEzhu/NrDVO1Y+WUNEIhJm7aqMaguLOPj54Girjy574uyd5V5bwaYpl1itzNby+VVHKrFqb+vHx1k9AXvcyOSs8q8tyc8fAZH9FxywemeVm+vt9//t3Xt8THf+x/HPpJlkqCbY1iVtXEJdirCE2ihrQknUpZRqXYqkWap7EbbKVlEeiv401K66RBpr/dytS1vSxaTrVpFWdUMJkpAQxC2JSyaZyNk/EpEwo5nJTPrdej3/ysNMzveT4zDvfM/3+zkP0vVbd9Hug10zTWist3IwT98IU8XOd2FuUnSQwdaFke/AEe9cSvhsxL1qx5kefIMzL0U8GkpSk13BiTkzwDG+/b/KPzSnV32r/1dbY8m/LZKRma2zdrBXt577YlavhlY/apyl0Rvbr8TP7NmgvBW73c7JFjlz9Vb53q73Nw4Vp9+Hdbt59aLOGLF8T/L1G/mFmpZvvpAwt1sVEbNp9IztOXYeTXfl3O0nxi7bdeTcjVxN07TcjISVYX6eYjk9Z+aXlxy8tfsTblxND4xY/s/vUrJzCzRNM19IWD/UR8ScPn/Bl2kODvlgpLZsGlTb2pXloAd/MSjc8mpte49ycNHwT05b5NnRq5Ky8zVN0/KyryZ8FOQueenzKzi3emnru2Ems3gYI/997kZ+oaZplmuJRSfWNHrGTjsvDMup9YP9fNqHrqsx/su9s5+3/ia3m1cv6vr8ZWXJpZhzylR0Kca9+3erM2yAY0hmgGP0v3rc2myAYzy8vAyPOe1otkdxafK7fO5HEZH2jeo586h+obtzTZFhnf2qV9PrRPSedQImRn8a5C5iWbfnB2vfcXZFN71O/8oGa0nLOC85Z1F4t9ZPVzOIiBjqBgxfvCzcU8Qc+92PTkw2pYecr5kiw/q3bVj0V+xZJ2DQqlXjRETbeijZ6pAHJ1XV6ep9+L1LynE629UmH92RUSDyp6VLhjbx0ouIeHjVDHhn2eJOIpKYeqkiox4/uEVEAhdFRXR5uppeJyLuNVoWn9iCUxmX7alTRH/+4Fb3wdHxZ/bP6VX3SXcbY/qF7s7dNmt4yaX4RGPjxKULA3WiXdmVlFyRnwYog2QGwBm0xM8/2S9ieKNbW+clVhvqtevTTETMeQXWXi0oMN+RgkvZN8uXtPQNWrdzTSazrX6LTg95NTcvVyQ9M6vSyqkQ29W6uz/k141aT1SpyKh6j6q2X3zKq9qDf/jQsxo4/crxVaEdatt96TZq1ME1U614lJHMADjBxfVTJx0V3XMfvvOit8sH0105e1REF9i4bsU/FS3JcSsOaOI+oNNzlfURa0kyxRwQ0fX7zXOVNOLPo36XoV0MIkv/PONAyfxlfnrs0qn7xcM4a0THihy7RfBbviLffDA55njJ3XZz8vL3F4v4RowLtvfGq4dX0cSbvXJi18SIyDMvtWvkwHcD1pHMAFfREiNbe9zb3Ba0QERkQZDz99M5jZa4oFWp7XjG+SJlK7axQc+StHzosC15HsZl2yJalnvhncNyYtcsFtE1H9i9WYWOU3D96L//OsoYvl88jIs/cuo6LVvyc05/vWRYzzEHNENQdGR/u1duFTsQ3lhXakPiYtMJx3Z62rS/ZIAq1ev3fDtqt0O7Kf2Grdgc5qcdntbpubZvLjadSNw8w1g/5P+u+E+P2/hmxaJMDeOULfO6e5zbEBrQuMOk7RlHty0d0qJF+P5ar8XsmtO1QhuPy0fLTU/cPKNz36hs8Rn397G/dv2IeHSQzABUSH567Fu9fm8q8BmzaeUI188cFFjiF74ZkyeG4XNDm4r9Yaowc20/fVHo0Nds1fWPmwyjVx26sLuCQeHhLq7rfzfaej9rfGtXjZHR8WdiR/k5cNv3/rt4ty+m7FwytlvzJhO+dlYjubLR2pyd9q9Pf9e96bPjHehU5+EbHHX01I5Jz986Ej22W3P/AdO+bznZdPGHaYE1K1xm9bYTtqcmrHz1qcsJc196ulW/MWsyQqKPnlwzsokr76aXdC1xq1rPf8C0G11nxKamzDdWd+GQePSQzABX0bUa/0Op7ftF/Q5Kb8a/Ywpt8HMXWYau1bjEUtvxihoolK44zzSqbMWWU+uHd+4dnaIL+mzvwt7PuHyFmWTtnTTo/fMFvuN3zO9dcts0a3u4972JvcbhB7TSsz46na7KpFJ756pUK736yXxq6bDgbuGlboq5ROm4c+1IdNgLPX63JqlkoutYmbnKotnVT0rNVd57WsMLMy+czzIXX1Z52TmnTFFvd/QUSY8Mifgi2wmFdv0w81JK0W5HTcvPvpSyc/kf/PWSlz4/OOKLHDurFbGc2bv042Xf5YnBp2n72lUkN3F2SIehiw5frXilBdeTtkVO/+rsHc+nmrWv5y1i3hIW0GXS9pLpPXvqdFDqzqnBTUM+OHCNlmZwIpIZAAdZkpb36jh0/Vl90GfHHJsBslPW4Y8HhUSme3adt+m93zo46+JWq9//m+8GzezziVvndqty7Uh0aJs+y122va7O4M13h8y9nHJk8+wBvpb/rBjS5qWYFLs/0T28fLw99Xe/fqKx8c2/7Vg3xFPEvHbDXnu7iFhj8KrV8O6iK71XrYbdwxbu+ecwT5H8NRv32TdA1r45nZv3nPVN40mxqVnnTxy6cDVtx6TnDcmrf9/OPyKuQjscLKfWD/11mzEb3XotOXj20vFDZy9nJKx8tb4lYe5LfiGfnXRZUAqYkqbdF4vz46Z3ajWxYj8OUBrJDIAjLEnLewW+teuae6XFsn1zggP/vEt8I3ZsmtC+Zun7mNV7RZVq2no6KlB3X0eu3DmdrR3Sw8unZd+JuzK2DPGU/Ljwv8W5fubD8GTD1i9P2pT4+TBPMZtCF+4TEZEWZeYqi2ZX/1S61enuUX62j1m96+uDRCQ/+aKVZhHO4N3l9cH6e90oylltTuzE7pPj8zpFHd5X3EVPV8U3ePbBtB3h3pKxoOc4u9vRldASFw0YvP5s7XFfJawe/XxtnYjo6wYMX3vix6hOUhgXNnDxj+Wv00HFsXjPd/NbimQseH8jfTPgLCQzAHazJC0PbhlembEsboJ/98nx4hux40ikseKLlMqo3tIYICKSkJzm3APb5t38t+10IrqEZGd8nufeuikibh5uruqJZ759646I3vMxOwawxH8elScSONJ438Ivr+DXR4ntdnTlkRK/4ZiIDOpbdoGXztDEOLKTiBzbcrCy9tboW7R5UURk/9FKu3jwi0cyAxxSaiF58RIW7d6GOf+FVvqb6z2qivjU8rbWmyFz48DHyu6ILFkm5dF60QnntHO4tw797qKbkordWsxPkvtHKazq5S3S4FePP3iofUvCTQUiYjaFNiq1/dRpy3fKyoqb4B8Sme6aWCYiWWnH00TE4zdNK631wfW0E8c0cfPoVPEhNfPJL/66RURavNzRNcsWLcnbFmwqFF3jPoENyn0pFl6/es5dRE6nXb5/JjLzarqbiP4Z78cdvLALr547ponozly8/yEKlusX00TE3beW8y8TG5JPHxIRN6N/w8oaEb94JDPAIW43b9+01Svcuhfm3tK085PbWttOmHvzuuv/Lebm3rDr/W4dpmdpWuqUDg++9NA+n86VFTfBP8hJsSx1RfeiHhNnrhUtvrfkZKbGTg7uH5ku4jP99RecUXBZZ1cYnwx5O2r3D+dvFg2p5aan/mtK724fZ4vUmzLQrqZeqSu6+/WYuflwao75johIfs6N03HLQkPC94vo+k1+ublTqp27Ov5kTlGasuRkphY3FhFD36mv2bEZ1q1WK2MzEcmc+cqIpfEZ2UXL8s03Tsd9NOSNTYUidUYFW/23UJ5jN+vQTy+ibQ3r/d5XSddLTuy3MeED3k8XMYT0auf8xhlfj6/Zot/c1fEnL98uOjs5manfxowMHrtfxNBndIhau3nwP00rN55oDqCyFS0as8HN8509D37LmZggd+tP+L6w9mUb3dYcfQz2T7q04RUbmdsQvDLJ+pDfvFtFxHfW4QdeSInpZv1Yen/nPJH9TEyQ9V83DG0/sDWAzWptP3TcCQVfM03wtXFV+L4WY+3E2qxT07Q78dNs9kfWj/gyu/g9NkY0+I6Pc8bZxy8QTzQH8Ivz0Cf8WFd/5G6L9Sd81xm8PiVx67wRPZ6tW3yL1vOpZsHD58eeyHDVarlaA9deSdw8e0CPpr7Fn/1V6/i9OObT3ccvbxtmo/NWxzm3NS3tLw82L234xur/bFoQ1rtN7eInGxm86/UYu2xX0pVvndEhTKT+0H98b/38HJxqawCb1eoMTUJ3nt23Ylr/AN+Sgn2atu878/Oj6QcrWHAN47zTaTtKl1pyYm20NLNZp4i43c75yVa9bh2mHztliprcv309b8+7Iwb0n7ky4czJj7tW2s1TPAp0mlbeO/193/vHzdz8oq9NkWEuKwkAAOB/XtD46JKvyx+cmDMDAABQBckMAABAFSQzAAAAVZDMAAAAVEEyAwAAUAXJDAAAQBUkMwAAAFWQzAAAAFRBMgMAAFAFyQwAAEAVJDMAAABVkMwAAABUQTIDAABQBckMAABAFSQzAAAAVZDMAAAAVEEyAwAAUAXJDAAAQBUkMwAAAFWQzAAAAFRBMgMAAFAFyQwAAEAVJDMAAABVkMwAAABUQTIDAABQBckMAABAFSQzAAAAVZDMAAAAVEEyAwAAUAXJDAAAQBUkMwAAAFWQzAAAAFRBMgMAAFAFyQwAAEAVJDMAAABVkMwAAABUQTIDAABQBckMAABAFSQzAAAAVZDMAAAAVEEyAwAAUAXJDAAAQBUkMwAAAFWQzAAAAFRBMgMAAFAFyQwAAEAVJDMAAABVkMwAAABUQTIDAABQBckMAABAFSQzAAAAVZDMAAAAVEEyAwAAUAXJDAAAQBUkMwAAAFWQzAAAAFRBMgMAAFAFyQwAAEAVJDMAAABVkMwAAABUQTIDAABQBckMAABAFSQzAAAAVZDMAAAAVEEyAwAAUAXJDAAAQBUkMwAAAFWQzAAAAFRBMgMAAFAFyQwAAEAVJDMAAABVkMwAAABUQTIDAABQBckMAABAFSQzAAAAVbiX/603c/NLvg4aH+2CYgAAAB5pzJkBAACowo5kVq2Kh+vqAAAAAHNmAAAAqtBpmvZz1wAAAAAR5swAAADUQTIDAABQBckMAABAFSQzAAAAVZDMAAAAVEEyAwAAUAXJDAAAQBUkMwAAAFWQzAAAAFRBMgMAAFAFyQwAAEAVJDMAAABVkMwAAABUQTIDAABQxX8BEy9PVMKikHQAAAAASUVORK5CYII=)"
      ],
      "metadata": {
        "id": "tRy9FdSv3eVl"
      }
    },
    {
      "cell_type": "code",
      "source": [
        "# Fibbonacci numbers\n",
        "# Fn = Fn-2 + Fn-1\n",
        "\n",
        "Fn = [1, 1]\n",
        "\n",
        "for i in range(5):\n",
        "  Fn.append(...)"
      ],
      "metadata": {
        "id": "8HuRnhEU1i4n"
      },
      "execution_count": null,
      "outputs": []
    },
    {
      "cell_type": "code",
      "source": [
        "# Fibonnaci rabbits\n",
        "# Fn-1 = young rabbits\n",
        "# Fn-2 = adult rabbits -> they produce *3 rabbits\n",
        "\n",
        "Fn = [1, 1]\n",
        "\n",
        "for i in range(5):\n",
        "  Fn.append(...)"
      ],
      "metadata": {
        "id": "MQvtTEIdz5Rk"
      },
      "execution_count": null,
      "outputs": []
    },
    {
      "cell_type": "markdown",
      "source": [
        "https://rosalind.info/problems/hamm/\n",
        "\n",
        "https://rosalind.info/problems/ini5/\n",
        "\n",
        "https://rosalind.info/problems/fibo/\n",
        "\n",
        "https://rosalind.info/problems/fib/\n",
        "\n",
        "\n",
        "https://rosalind.info/problems/subs/\n",
        "\n",
        "https://rosalind.info/problems/ba1a/\n",
        "\n",
        "https://rosalind.info/problems/ba1c/\n"
      ],
      "metadata": {
        "id": "DM97Qj8q5ZB0"
      }
    }
  ]
}