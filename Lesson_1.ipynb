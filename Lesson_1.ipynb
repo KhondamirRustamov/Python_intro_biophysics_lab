{
  "nbformat": 4,
  "nbformat_minor": 0,
  "metadata": {
    "colab": {
      "provenance": [],
      "authorship_tag": "ABX9TyNxP3Z0u6qi8++dj+BvdATJ",
      "include_colab_link": true
    },
    "kernelspec": {
      "name": "python3",
      "display_name": "Python 3"
    },
    "language_info": {
      "name": "python"
    }
  },
  "cells": [
    {
      "cell_type": "markdown",
      "metadata": {
        "id": "view-in-github",
        "colab_type": "text"
      },
      "source": [
        "<a href=\"https://colab.research.google.com/github/KhondamirRustamov/Python_intro_biophysics_lab/blob/main/Lesson_1.ipynb\" target=\"_parent\"><img src=\"https://colab.research.google.com/assets/colab-badge.svg\" alt=\"Open In Colab\"/></a>"
      ]
    },
    {
      "cell_type": "code",
      "execution_count": null,
      "metadata": {
        "id": "hTib2Z-8CJk4"
      },
      "outputs": [],
      "source": [
        "print('Hello, mightyhondria!')"
      ]
    },
    {
      "cell_type": "code",
      "source": [
        "print('Hello!')"
      ],
      "metadata": {
        "id": "eKSc5jpyCQzc"
      },
      "execution_count": null,
      "outputs": []
    },
    {
      "cell_type": "code",
      "source": [
        "# variables\n",
        "\n",
        "a = 5\n",
        "print(a)"
      ],
      "metadata": {
        "id": "48LsQzPPCeWQ"
      },
      "execution_count": null,
      "outputs": []
    },
    {
      "cell_type": "code",
      "source": [
        "# register matters!\n",
        "\n",
        "my_variable = 3\n",
        "My_variable = 4\n",
        "print(my_variable)"
      ],
      "metadata": {
        "id": "-uaqg9XFCnr2"
      },
      "execution_count": null,
      "outputs": []
    },
    {
      "cell_type": "code",
      "source": [
        "print('my variable: ', my_variable)"
      ],
      "metadata": {
        "id": "bsE0zwe1C4Ec"
      },
      "execution_count": null,
      "outputs": []
    },
    {
      "cell_type": "code",
      "source": [
        "# operators\n",
        "\n",
        "a = 8\n",
        "b = 4\n",
        "\n",
        "print('a + b = ', a + b)\n",
        "print('a - b = ', a - b)\n",
        "print('a * b = ', a * b)\n",
        "print('a / b = ', a / b)"
      ],
      "metadata": {
        "id": "k_46fgN5CvXa"
      },
      "execution_count": null,
      "outputs": []
    },
    {
      "cell_type": "code",
      "source": [
        "print('a ^ b = ', a ** b) #square"
      ],
      "metadata": {
        "id": "MEzjLWf57cme"
      },
      "execution_count": null,
      "outputs": []
    },
    {
      "cell_type": "code",
      "source": [
        "# import additional libraries\n",
        "\n",
        "import this"
      ],
      "metadata": {
        "id": "_UobZAkM78NK"
      },
      "execution_count": null,
      "outputs": []
    },
    {
      "cell_type": "code",
      "source": [
        "from math import sqrt \n",
        "\n",
        "print('Square root of a = ', sqrt(b))"
      ],
      "metadata": {
        "id": "7PWcFdkp7j7r"
      },
      "execution_count": null,
      "outputs": []
    },
    {
      "cell_type": "code",
      "source": [
        "# operators 2.0\n",
        "\n",
        "a = 7\n",
        "b = 4\n",
        "\n",
        "print('a // b = ', a // b)\n",
        "print('a % b = ', a % b)"
      ],
      "metadata": {
        "id": "yUK5eiwZDSTG"
      },
      "execution_count": null,
      "outputs": []
    },
    {
      "cell_type": "code",
      "source": [
        "# numbers\n",
        "\n",
        "a = 7.4\n",
        "b = 3.7\n",
        "\n",
        "print('a / b = ', a / b)"
      ],
      "metadata": {
        "id": "u_n55PNGDjUu"
      },
      "execution_count": null,
      "outputs": []
    },
    {
      "cell_type": "code",
      "source": [
        "# comments\n",
        "# this is a comment it doesn't work\n",
        "''' \n",
        "This is also a comment\n",
        "But in a few lines\n",
        "'''\n",
        "\n",
        "print('Hello, biophysics!') # it's a comment too"
      ],
      "metadata": {
        "id": "SsgbnVOQxJg_"
      },
      "execution_count": null,
      "outputs": []
    },
    {
      "cell_type": "code",
      "source": [
        "# strings\n",
        "\n",
        "my_string = 'Bioenergetics'\n",
        "print(my_string)"
      ],
      "metadata": {
        "colab": {
          "base_uri": "https://localhost:8080/"
        },
        "id": "VwOPRiUNCTye",
        "outputId": "dacee5ae-092b-4f1f-b47c-3ce93024a91e"
      },
      "execution_count": null,
      "outputs": [
        {
          "output_type": "stream",
          "name": "stdout",
          "text": [
            "Bioenergetics\n"
          ]
        }
      ]
    },
    {
      "cell_type": "code",
      "source": [
        "print('Hello, ' + 'biophysics')"
      ],
      "metadata": {
        "id": "_0at5Qrd8brz"
      },
      "execution_count": null,
      "outputs": []
    },
    {
      "cell_type": "code",
      "source": [
        "print('Hello ' * 4)"
      ],
      "metadata": {
        "id": "J--puhwj8hU9"
      },
      "execution_count": null,
      "outputs": []
    },
    {
      "cell_type": "code",
      "source": [
        "print('This \\n is \\n a new \\n line')"
      ],
      "metadata": {
        "id": "VI_5bl5g82Jp"
      },
      "execution_count": null,
      "outputs": []
    },
    {
      "cell_type": "code",
      "source": [
        "print('''This\n",
        "is\n",
        "also\n",
        "a new\n",
        "line''')"
      ],
      "metadata": {
        "id": "eoUm7gXh88jO"
      },
      "execution_count": null,
      "outputs": []
    },
    {
      "cell_type": "code",
      "source": [
        "print('this is \\t tab')"
      ],
      "metadata": {
        "id": "-dUwIQX59DTN"
      },
      "execution_count": null,
      "outputs": []
    },
    {
      "cell_type": "code",
      "source": [
        "# bioenergetics\n",
        "# 0123456789111\n",
        "#           012\n",
        "\n",
        "# string[start:end:step]\n",
        "\n",
        "print(my_string[0:6])\n",
        "print(my_string[8:1:-1])\n",
        "print(my_string[:1:-1])\n",
        "print(my_string[::-1])\n",
        "print(my_string[::2])"
      ],
      "metadata": {
        "colab": {
          "base_uri": "https://localhost:8080/"
        },
        "id": "e8Z-M56XDtNg",
        "outputId": "a91309cb-1491-4c88-b10e-9cdf5d1496f9"
      },
      "execution_count": null,
      "outputs": [
        {
          "output_type": "stream",
          "name": "stdout",
          "text": [
            "Bioene\n",
            "egreneo\n",
            "scitegreneo\n",
            "scitegreneoiB\n",
            "Bonreis\n"
          ]
        }
      ]
    }
  ]
}