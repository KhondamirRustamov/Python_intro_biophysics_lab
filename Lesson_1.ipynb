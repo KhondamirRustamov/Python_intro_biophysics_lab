{
  "nbformat": 4,
  "nbformat_minor": 0,
  "metadata": {
    "colab": {
      "provenance": [],
      "authorship_tag": "ABX9TyN0UEwyMeXKG6mV3xILGv8g",
      "include_colab_link": true
    },
    "kernelspec": {
      "name": "python3",
      "display_name": "Python 3"
    },
    "language_info": {
      "name": "python"
    }
  },
  "cells": [
    {
      "cell_type": "markdown",
      "metadata": {
        "id": "view-in-github",
        "colab_type": "text"
      },
      "source": [
        "<a href=\"https://colab.research.google.com/github/KhondamirRustamov/Python_intro_biophysics_lab/blob/main/Lesson_1.ipynb\" target=\"_parent\"><img src=\"https://colab.research.google.com/assets/colab-badge.svg\" alt=\"Open In Colab\"/></a>"
      ]
    },
    {
      "cell_type": "code",
      "execution_count": null,
      "metadata": {
        "id": "hTib2Z-8CJk4"
      },
      "outputs": [],
      "source": [
        "print('Hello, mightyhondria!')"
      ]
    },
    {
      "cell_type": "code",
      "source": [
        "print('Hello!')"
      ],
      "metadata": {
        "id": "eKSc5jpyCQzc"
      },
      "execution_count": null,
      "outputs": []
    },
    {
      "cell_type": "code",
      "source": [
        "# variables\n",
        "\n",
        "a = 5\n",
        "print(a)"
      ],
      "metadata": {
        "id": "48LsQzPPCeWQ"
      },
      "execution_count": null,
      "outputs": []
    },
    {
      "cell_type": "code",
      "source": [
        "# register matters!\n",
        "\n",
        "my_variable = 3\n",
        "My_variable = 4\n",
        "print(my_variable)"
      ],
      "metadata": {
        "id": "-uaqg9XFCnr2"
      },
      "execution_count": null,
      "outputs": []
    },
    {
      "cell_type": "code",
      "source": [
        "print('my variable: ', my_variable)"
      ],
      "metadata": {
        "id": "bsE0zwe1C4Ec"
      },
      "execution_count": null,
      "outputs": []
    },
    {
      "cell_type": "code",
      "source": [
        "# operators\n",
        "\n",
        "a = 8\n",
        "b = 4\n",
        "\n",
        "print('a + b = ', a + b)\n",
        "print('a - b = ', a - b)\n",
        "print('a * b = ', a * b)\n",
        "print('a / b = ', a / b)"
      ],
      "metadata": {
        "id": "k_46fgN5CvXa"
      },
      "execution_count": null,
      "outputs": []
    },
    {
      "cell_type": "code",
      "source": [
        "# operators 2.0\n",
        "\n",
        "a = 7\n",
        "b = 4\n",
        "\n",
        "print('a // b = ', a // b)\n",
        "print('a % b = ', a % b)"
      ],
      "metadata": {
        "id": "yUK5eiwZDSTG"
      },
      "execution_count": null,
      "outputs": []
    },
    {
      "cell_type": "code",
      "source": [
        "# numbers\n",
        "\n",
        "a = 7.4\n",
        "b = 3.7\n",
        "\n",
        "print('a / b = ', a / b)"
      ],
      "metadata": {
        "id": "u_n55PNGDjUu"
      },
      "execution_count": null,
      "outputs": []
    },
    {
      "cell_type": "code",
      "source": [
        "# strings\n",
        "\n",
        "my_string = 'Bioenergetics'\n",
        "print(my_string)"
      ],
      "metadata": {
        "colab": {
          "base_uri": "https://localhost:8080/"
        },
        "id": "VwOPRiUNCTye",
        "outputId": "dacee5ae-092b-4f1f-b47c-3ce93024a91e"
      },
      "execution_count": 3,
      "outputs": [
        {
          "output_type": "stream",
          "name": "stdout",
          "text": [
            "Bioenergetics\n"
          ]
        }
      ]
    },
    {
      "cell_type": "code",
      "source": [
        "# bioenergetics\n",
        "# 0123456789111\n",
        "#           012\n",
        "\n",
        "print(my_string[0:6])\n",
        "print(my_string[8:1:-1])\n",
        "print(my_string[:1:-1])\n",
        "print(my_string[::-1])\n",
        "print(my_string[::2])"
      ],
      "metadata": {
        "colab": {
          "base_uri": "https://localhost:8080/"
        },
        "id": "e8Z-M56XDtNg",
        "outputId": "a91309cb-1491-4c88-b10e-9cdf5d1496f9"
      },
      "execution_count": 7,
      "outputs": [
        {
          "output_type": "stream",
          "name": "stdout",
          "text": [
            "Bioene\n",
            "egreneo\n",
            "scitegreneo\n",
            "scitegreneoiB\n",
            "Bonreis\n"
          ]
        }
      ]
    }
  ]
}