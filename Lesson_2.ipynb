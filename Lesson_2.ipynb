{
  "nbformat": 4,
  "nbformat_minor": 0,
  "metadata": {
    "colab": {
      "provenance": [],
      "authorship_tag": "ABX9TyNUul+pXYtwYJfhQxoO0eQ4",
      "include_colab_link": true
    },
    "kernelspec": {
      "name": "python3",
      "display_name": "Python 3"
    },
    "language_info": {
      "name": "python"
    }
  },
  "cells": [
    {
      "cell_type": "markdown",
      "metadata": {
        "id": "view-in-github",
        "colab_type": "text"
      },
      "source": [
        "<a href=\"https://colab.research.google.com/github/KhondamirRustamov/Python_intro_biophysics_lab/blob/main/Lesson_2.ipynb\" target=\"_parent\"><img src=\"https://colab.research.google.com/assets/colab-badge.svg\" alt=\"Open In Colab\"/></a>"
      ]
    },
    {
      "cell_type": "code",
      "execution_count": null,
      "metadata": {
        "id": "N9G6xd-QEDRX"
      },
      "outputs": [],
      "source": [
        "# Boolean\n",
        "# We did integer, float, string before\n",
        "\n",
        "a = True\n",
        "b = False\n",
        "print(a)"
      ]
    },
    {
      "cell_type": "code",
      "source": [
        "print(a-1)"
      ],
      "metadata": {
        "id": "Oc8bo829EVDr"
      },
      "execution_count": null,
      "outputs": []
    },
    {
      "cell_type": "code",
      "source": [
        "a = 1 # = True\n",
        "b = 0 # = False\n",
        "\n",
        "print(a)"
      ],
      "metadata": {
        "id": "Lg1j2tnzEXYQ"
      },
      "execution_count": null,
      "outputs": []
    },
    {
      "cell_type": "code",
      "source": [
        "# Conditional Operators\n",
        "\n",
        "first_value = 1\n",
        "second_value = 2\n",
        "\n",
        "print(first_value == second_value)\n",
        "print(1 == 1)"
      ],
      "metadata": {
        "id": "GHvx3juCEe9H"
      },
      "execution_count": null,
      "outputs": []
    },
    {
      "cell_type": "code",
      "source": [
        "print(first_value >= second_value)\n",
        "print(2 >= 1)\n",
        "print(2 > 1)"
      ],
      "metadata": {
        "id": "7pV8TbePFAFD"
      },
      "execution_count": null,
      "outputs": []
    },
    {
      "cell_type": "code",
      "source": [
        "print(first_value <= second_value)\n",
        "print(2 <= 1)\n",
        "print(2 < 4)"
      ],
      "metadata": {
        "id": "WEj8FCvEFKg2"
      },
      "execution_count": null,
      "outputs": []
    },
    {
      "cell_type": "code",
      "source": [
        "# Conditionals IF-ELSE\n",
        "\n",
        "a = 4\n",
        "\n",
        "if a > 8:\n",
        "  print('a > 8')"
      ],
      "metadata": {
        "id": "mBJliqdwFQKN"
      },
      "execution_count": 8,
      "outputs": []
    },
    {
      "cell_type": "code",
      "source": [
        "if a > 8:\n",
        "  print('a > 8')\n",
        "else:\n",
        "  print('a < 8')"
      ],
      "metadata": {
        "id": "KuaBSfUUFlBO"
      },
      "execution_count": null,
      "outputs": []
    },
    {
      "cell_type": "code",
      "source": [
        "if a > 8:\n",
        "  print('a > 8')\n",
        "elif a < 2:\n",
        "  print('a < 2')\n",
        "else:\n",
        "  print('2 < a < 8')"
      ],
      "metadata": {
        "id": "w-i5gMt4Fpf-"
      },
      "execution_count": null,
      "outputs": []
    },
    {
      "cell_type": "code",
      "source": [
        "nuc = 'A'\n",
        "\n",
        "if nuc == 'A':\n",
        "  print('T')\n",
        "elif nuc == 'C':\n",
        "  print('G')\n",
        "elif nuc == 'T':\n",
        "  print('A')\n",
        "else:\n",
        "  print('C')  "
      ],
      "metadata": {
        "id": "XxY7yjzSFzqF"
      },
      "execution_count": null,
      "outputs": []
    },
    {
      "cell_type": "code",
      "source": [
        "a = 8\n",
        "b = 10\n",
        "\n",
        "if a >= 7 and b <= 7:\n",
        "  print('Hello')"
      ],
      "metadata": {
        "id": "oGzNsTHoGHPR"
      },
      "execution_count": 12,
      "outputs": []
    },
    {
      "cell_type": "code",
      "source": [
        "if a >= 7 or b <= 7:\n",
        "  print('Hello')"
      ],
      "metadata": {
        "id": "8Ozqac0eGRhP"
      },
      "execution_count": null,
      "outputs": []
    },
    {
      "cell_type": "code",
      "source": [
        "if True or False:\n",
        "  print('or works (true/false)')\n",
        "\n",
        "if False or False:\n",
        "  print('or works (false/false)')\n",
        "\n",
        "if True or True:\n",
        "  print('or works (true/true)')"
      ],
      "metadata": {
        "id": "yaL7iX_UGU58"
      },
      "execution_count": null,
      "outputs": []
    },
    {
      "cell_type": "code",
      "source": [
        "if True and False:\n",
        "  print('and works (true/false)')\n",
        "\n",
        "if False and False:\n",
        "  print('and works (false/false)')\n",
        "\n",
        "if True and True:\n",
        "  print('and works (true/true)')"
      ],
      "metadata": {
        "id": "WJHsZM80GiYr"
      },
      "execution_count": null,
      "outputs": []
    },
    {
      "cell_type": "code",
      "source": [
        "x = 3\n",
        "y = 3.14\n",
        "z = '3.14'\n",
        "w = False\n",
        "\n",
        "print('type of x: ', type(x))\n",
        "print('type of y: ', type(y))\n",
        "print('type of z: ', type(z))\n",
        "print('type of w: ', type(w))"
      ],
      "metadata": {
        "id": "_mFrOTxeIyD0"
      },
      "execution_count": null,
      "outputs": []
    },
    {
      "cell_type": "code",
      "source": [
        "print(type(float(z)))"
      ],
      "metadata": {
        "id": "9RBZMokYJMf8"
      },
      "execution_count": null,
      "outputs": []
    },
    {
      "cell_type": "code",
      "source": [
        "print(type(int(y)))"
      ],
      "metadata": {
        "id": "ePlD2sudJSLO"
      },
      "execution_count": null,
      "outputs": []
    },
    {
      "cell_type": "code",
      "source": [
        "x = input()\n",
        "print(x)"
      ],
      "metadata": {
        "id": "thRwVsXQJXRH"
      },
      "execution_count": null,
      "outputs": []
    },
    {
      "cell_type": "code",
      "source": [
        "x = input(\"text an input: \")\n",
        "print(x)"
      ],
      "metadata": {
        "id": "a9bcB-ykJxEt"
      },
      "execution_count": null,
      "outputs": []
    },
    {
      "cell_type": "code",
      "source": [
        "# In place operations\n",
        "\n",
        "x = 4\n",
        "print(x)\n",
        "\n",
        "x = x + 2\n",
        "print(x)"
      ],
      "metadata": {
        "colab": {
          "base_uri": "https://localhost:8080/"
        },
        "id": "ZXS_rG82J1pl",
        "outputId": "822e9013-83ae-4cac-a58f-8f5f3eafb84c"
      },
      "execution_count": 25,
      "outputs": [
        {
          "output_type": "stream",
          "name": "stdout",
          "text": [
            "4\n",
            "6\n"
          ]
        }
      ]
    },
    {
      "cell_type": "code",
      "source": [
        "x = 4\n",
        "print(x)\n",
        "\n",
        "x += 2\n",
        "print(x)"
      ],
      "metadata": {
        "colab": {
          "base_uri": "https://localhost:8080/"
        },
        "id": "9zC-x4J3KHgM",
        "outputId": "4f87a4a3-d606-447a-9341-27c8a654199e"
      },
      "execution_count": 26,
      "outputs": [
        {
          "output_type": "stream",
          "name": "stdout",
          "text": [
            "4\n",
            "6\n"
          ]
        }
      ]
    },
    {
      "cell_type": "code",
      "source": [
        "x = 4\n",
        "print(x)\n",
        "\n",
        "x -= 2\n",
        "print(x)"
      ],
      "metadata": {
        "colab": {
          "base_uri": "https://localhost:8080/"
        },
        "id": "7w06EoWJKKUO",
        "outputId": "46311060-1971-4657-a8e6-7c2de6e159b3"
      },
      "execution_count": 29,
      "outputs": [
        {
          "output_type": "stream",
          "name": "stdout",
          "text": [
            "4\n",
            "2\n"
          ]
        }
      ]
    },
    {
      "cell_type": "code",
      "source": [
        "x = 4\n",
        "print(x)\n",
        "\n",
        "x *= 2\n",
        "print(x)"
      ],
      "metadata": {
        "colab": {
          "base_uri": "https://localhost:8080/"
        },
        "id": "ygFqFb67KLZU",
        "outputId": "52e52341-1c9c-4ba7-f1cf-20b8b602f6b6"
      },
      "execution_count": 28,
      "outputs": [
        {
          "output_type": "stream",
          "name": "stdout",
          "text": [
            "4\n",
            "8\n"
          ]
        }
      ]
    },
    {
      "cell_type": "code",
      "source": [
        "x = 4\n",
        "print(x)\n",
        "\n",
        "x /= 2\n",
        "print(x)"
      ],
      "metadata": {
        "colab": {
          "base_uri": "https://localhost:8080/"
        },
        "id": "XnWzma06KMnK",
        "outputId": "9f2edeaf-8b39-4ee5-8b1f-a81804f07e50"
      },
      "execution_count": 27,
      "outputs": [
        {
          "output_type": "stream",
          "name": "stdout",
          "text": [
            "4\n",
            "2.0\n"
          ]
        }
      ]
    },
    {
      "cell_type": "code",
      "source": [
        "# WHILE loop\n",
        "\n",
        "x = 5\n",
        "\n",
        "while x > 0:\n",
        "  print(x)\n",
        "  x -= 1"
      ],
      "metadata": {
        "colab": {
          "base_uri": "https://localhost:8080/"
        },
        "id": "K__rDPzxKO9u",
        "outputId": "2e9a6f7d-13a1-40f1-a850-310139adc934"
      },
      "execution_count": 31,
      "outputs": [
        {
          "output_type": "stream",
          "name": "stdout",
          "text": [
            "5\n",
            "4\n",
            "3\n",
            "2\n",
            "1\n"
          ]
        }
      ]
    },
    {
      "cell_type": "code",
      "source": [
        "# strings in a while loop\n",
        "\n",
        "x = 5\n",
        "new_string = ''\n",
        "\n",
        "while x > 0:\n",
        "  new_string += str(x)\n",
        "  x -= 1\n",
        "\n",
        "print(new_string)"
      ],
      "metadata": {
        "colab": {
          "base_uri": "https://localhost:8080/"
        },
        "id": "AjSmfpXCKlKZ",
        "outputId": "720f8878-e938-4f61-fdf2-6332b6257d15"
      },
      "execution_count": 32,
      "outputs": [
        {
          "output_type": "stream",
          "name": "stdout",
          "text": [
            "54321\n"
          ]
        }
      ]
    },
    {
      "cell_type": "code",
      "source": [
        "# strings in a while loop\n",
        "\n",
        "x = 5\n",
        "new_string = ''\n",
        "\n",
        "while x > 0:\n",
        "  if x % 2 == 0:\n",
        "    new_string += str(x)\n",
        "  x -= 1\n",
        "\n",
        "print(new_string)"
      ],
      "metadata": {
        "colab": {
          "base_uri": "https://localhost:8080/"
        },
        "id": "GFHg7a3qLdRN",
        "outputId": "9828155b-d97b-4e5d-f50c-c5be882619bd"
      },
      "execution_count": 35,
      "outputs": [
        {
          "output_type": "stream",
          "name": "stdout",
          "text": [
            "42\n"
          ]
        }
      ]
    },
    {
      "cell_type": "code",
      "source": [
        "# strings in a while loop\n",
        "\n",
        "x = 5\n",
        "new_string = ''\n",
        "\n",
        "while x > 0:\n",
        "  if x % 2 == 0:\n",
        "    new_string += str(x)\n",
        "  else:\n",
        "    new_string += '0'\n",
        "  x -= 1\n",
        "\n",
        "print(new_string)"
      ],
      "metadata": {
        "colab": {
          "base_uri": "https://localhost:8080/"
        },
        "id": "HhrxYsJOLkL9",
        "outputId": "0fe463e1-bb77-4130-8975-8479ecde7f3f"
      },
      "execution_count": 36,
      "outputs": [
        {
          "output_type": "stream",
          "name": "stdout",
          "text": [
            "04020\n"
          ]
        }
      ]
    },
    {
      "cell_type": "code",
      "source": [
        "# string len\n",
        "\n",
        "old_string = 'ABCDEFG'\n",
        "x = 0\n",
        "\n",
        "while x < len(old_string):\n",
        "  print(old_string[x])\n",
        "  x += 1"
      ],
      "metadata": {
        "colab": {
          "base_uri": "https://localhost:8080/"
        },
        "id": "KBtutiGdKzBw",
        "outputId": "17cb9a19-2f9e-4d53-a395-dda0f4876381"
      },
      "execution_count": 38,
      "outputs": [
        {
          "output_type": "stream",
          "name": "stdout",
          "text": [
            "A\n",
            "B\n",
            "C\n",
            "D\n",
            "E\n",
            "F\n",
            "G\n"
          ]
        }
      ]
    },
    {
      "cell_type": "code",
      "source": [
        "# For loop\n",
        "\n",
        "old_string = 'ABCDEFG'\n",
        "\n",
        "for i in old_string:\n",
        "  print(i)"
      ],
      "metadata": {
        "colab": {
          "base_uri": "https://localhost:8080/"
        },
        "id": "MVNhoR1kLp7V",
        "outputId": "a50abc37-cf2c-4a70-d5e7-df9e76a2a511"
      },
      "execution_count": 37,
      "outputs": [
        {
          "output_type": "stream",
          "name": "stdout",
          "text": [
            "A\n",
            "B\n",
            "C\n",
            "D\n",
            "E\n",
            "F\n",
            "G\n"
          ]
        }
      ]
    },
    {
      "cell_type": "code",
      "source": [
        "old_string = 'ACGTACGT'\n",
        "new_string = ''\n",
        "\n",
        "for nuc in old_string:\n",
        "  if nuc == 'A':\n",
        "    print('T')\n",
        "  elif nuc == 'C':\n",
        "    print('G')\n",
        "  elif nuc == 'T':\n",
        "    print('A')\n",
        "  else:\n",
        "    print('C')  "
      ],
      "metadata": {
        "colab": {
          "base_uri": "https://localhost:8080/"
        },
        "id": "RiZJ8B1_L45q",
        "outputId": "be4277c0-380f-4cb8-fe5d-5832d6bdf1d6"
      },
      "execution_count": 39,
      "outputs": [
        {
          "output_type": "stream",
          "name": "stdout",
          "text": [
            "T\n",
            "G\n",
            "C\n",
            "A\n",
            "T\n",
            "G\n",
            "C\n",
            "A\n"
          ]
        }
      ]
    },
    {
      "cell_type": "code",
      "source": [
        "# For loop\n",
        "\n",
        "old_string = 'ABCDEFG'\n",
        "new_string = ''\n",
        "\n",
        "for i in old_string:\n",
        "  new_string += i\n",
        "\n",
        "print(new_string)"
      ],
      "metadata": {
        "colab": {
          "base_uri": "https://localhost:8080/"
        },
        "id": "YwHri0VFMaEn",
        "outputId": "c6332720-d046-428e-f285-448cc3250f61"
      },
      "execution_count": 40,
      "outputs": [
        {
          "output_type": "stream",
          "name": "stdout",
          "text": [
            "ABCDEFG\n"
          ]
        }
      ]
    }
  ]
}