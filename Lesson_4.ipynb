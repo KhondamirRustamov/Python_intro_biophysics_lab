{
  "nbformat": 4,
  "nbformat_minor": 0,
  "metadata": {
    "colab": {
      "provenance": [],
      "authorship_tag": "ABX9TyN9PLlTGLhH1COoBraXavnH",
      "include_colab_link": true
    },
    "kernelspec": {
      "name": "python3",
      "display_name": "Python 3"
    },
    "language_info": {
      "name": "python"
    }
  },
  "cells": [
    {
      "cell_type": "markdown",
      "metadata": {
        "id": "view-in-github",
        "colab_type": "text"
      },
      "source": [
        "<a href=\"https://colab.research.google.com/github/KhondamirRustamov/Python_intro_biophysics_lab/blob/main/Lesson_4.ipynb\" target=\"_parent\"><img src=\"https://colab.research.google.com/assets/colab-badge.svg\" alt=\"Open In Colab\"/></a>"
      ]
    },
    {
      "cell_type": "code",
      "execution_count": null,
      "metadata": {
        "id": "TMzXg6dc4eT8"
      },
      "outputs": [],
      "source": [
        "my_list = list(range(10000))\n",
        "my_list_new = []\n",
        "print(my_list)\n",
        "\n",
        "for x in my_list:\n",
        "  my_list_new.append(x**2)\n",
        "\n",
        "print(my_list_new)\n"
      ]
    },
    {
      "cell_type": "code",
      "source": [
        "my_list = list(range(10000))\n",
        "print(my_list)\n",
        "\n",
        "my_list_new = [x**2 for x in my_list]\n",
        "\n",
        "print(my_list_new)"
      ],
      "metadata": {
        "id": "xixeIMRD5Bj4"
      },
      "execution_count": null,
      "outputs": []
    },
    {
      "cell_type": "code",
      "source": [
        "my_list = list(range(10))\n",
        "\n",
        "my_list_new = [x**2 if x % 2 == 0 else 0 for x in my_list]\n",
        "\n",
        "print(my_list)\n",
        "print(my_list_new)"
      ],
      "metadata": {
        "id": "FxgnAf0p6YiG"
      },
      "execution_count": null,
      "outputs": []
    },
    {
      "cell_type": "code",
      "source": [
        "my_list = list(range(10))\n",
        "\n",
        "my_list_new = [x**2 for x in my_list if x % 2 == 0]\n",
        "\n",
        "print(my_list)\n",
        "print(my_list_new)"
      ],
      "metadata": {
        "id": "nam-i_yp6p7V"
      },
      "execution_count": null,
      "outputs": []
    },
    {
      "cell_type": "code",
      "source": [
        "my_range = [x**3 for x in range(10)]\n",
        "print(my_range)"
      ],
      "metadata": {
        "id": "S6YxkT5A6xNq"
      },
      "execution_count": null,
      "outputs": []
    },
    {
      "cell_type": "code",
      "source": [
        "my_range = [[x, x**3] for x in range(10)]\n",
        "print(my_range)"
      ],
      "metadata": {
        "id": "L3lDPA1g64b6"
      },
      "execution_count": null,
      "outputs": []
    },
    {
      "cell_type": "code",
      "source": [
        "my_dictionary = {'AUG': 'G', 'UGA': '*'}\n",
        "\n",
        "print(my_dictionary['AUG'])"
      ],
      "metadata": {
        "id": "MwGQzc936_H4"
      },
      "execution_count": null,
      "outputs": []
    },
    {
      "cell_type": "code",
      "source": [
        "my_dictionary['UAA'] = '*'\n",
        "\n",
        "print(my_dictionary)"
      ],
      "metadata": {
        "id": "ncZy8SEX7aEg"
      },
      "execution_count": null,
      "outputs": []
    },
    {
      "cell_type": "code",
      "source": [
        "print(my_dictionary.items())"
      ],
      "metadata": {
        "id": "IBdC60Jn71v0"
      },
      "execution_count": null,
      "outputs": []
    },
    {
      "cell_type": "code",
      "source": [
        "new_dictionary = {'one': 1, 'two': 2, 'three': 3}\n",
        "\n",
        "print(new_dictionary.items())"
      ],
      "metadata": {
        "id": "jqEa2jnn8PMH"
      },
      "execution_count": null,
      "outputs": []
    },
    {
      "cell_type": "code",
      "source": [
        "square_dictionary = {k:v**2 for (k, v) in new_dictionary.items()}\n",
        "\n",
        "print(square_dictionary)"
      ],
      "metadata": {
        "id": "XL3gNmmM8XVF"
      },
      "execution_count": null,
      "outputs": []
    },
    {
      "cell_type": "code",
      "source": [
        "my_tuple = (1, 2, 3)\n",
        "print(my_tuple)"
      ],
      "metadata": {
        "id": "205UEJsR8myH"
      },
      "execution_count": null,
      "outputs": []
    },
    {
      "cell_type": "code",
      "source": [
        "my_tuple[1] = 4"
      ],
      "metadata": {
        "id": "5w6Pm_LD8sPK"
      },
      "execution_count": null,
      "outputs": []
    },
    {
      "cell_type": "code",
      "source": [
        "a, b = 3, 4\n",
        "print(a,b)\n",
        "\n",
        "a, b = b, a\n",
        "\n",
        "print(a,b)"
      ],
      "metadata": {
        "id": "m2MErOvL8wXq"
      },
      "execution_count": null,
      "outputs": []
    },
    {
      "cell_type": "code",
      "source": [
        "def square(number):\n",
        "  return number**2"
      ],
      "metadata": {
        "id": "CLxvNSV187qu"
      },
      "execution_count": null,
      "outputs": []
    },
    {
      "cell_type": "code",
      "source": [
        "print(square(2))"
      ],
      "metadata": {
        "id": "_GqeJ2Ky9EW6"
      },
      "execution_count": null,
      "outputs": []
    },
    {
      "cell_type": "code",
      "source": [
        "def sum_of_squares(num1, num2):\n",
        "  return num1**2 + num2**2"
      ],
      "metadata": {
        "id": "4D4oYkd59G9k"
      },
      "execution_count": null,
      "outputs": []
    },
    {
      "cell_type": "code",
      "source": [
        "print(sum_of_squares(3, 4))"
      ],
      "metadata": {
        "id": "FDbQMmOq9N_9"
      },
      "execution_count": null,
      "outputs": []
    },
    {
      "cell_type": "code",
      "source": [
        "def list_of_squares(list):\n",
        "  return [x**2 for x in list]"
      ],
      "metadata": {
        "id": "UQ4EdEaz9RR_"
      },
      "execution_count": null,
      "outputs": []
    },
    {
      "cell_type": "code",
      "source": [
        "print(list_of_squares([1, 2, 3, 4, 5]))"
      ],
      "metadata": {
        "id": "4j04MZWg9Z32"
      },
      "execution_count": null,
      "outputs": []
    },
    {
      "cell_type": "code",
      "source": [
        "my_list = [1, 2, 3, 4, 5]\n",
        "\n",
        "def square_list(my_list):\n",
        "  return [x**2 for x in my_list]"
      ],
      "metadata": {
        "id": "28P4Po4j9f8j"
      },
      "execution_count": null,
      "outputs": []
    },
    {
      "cell_type": "code",
      "source": [
        "print(square_list([1, 2, 3]))"
      ],
      "metadata": {
        "id": "9kuJg0VZ9qed"
      },
      "execution_count": null,
      "outputs": []
    },
    {
      "cell_type": "code",
      "source": [
        "def square_list(my_list):\n",
        "  my_list = [1, 2, 3, 4, 5]\n",
        "  return [x**2 for x in my_list]"
      ],
      "metadata": {
        "id": "3Y6I4HHh9xqp"
      },
      "execution_count": null,
      "outputs": []
    },
    {
      "cell_type": "code",
      "source": [
        "print(square_list([1, 2, 3]))"
      ],
      "metadata": {
        "id": "-Ksz2iTj9zm-"
      },
      "execution_count": null,
      "outputs": []
    },
    {
      "cell_type": "code",
      "source": [
        "def sigmoid(num):\n",
        "  e = 2.71\n",
        "  return 1/(1+e**(-x))"
      ],
      "metadata": {
        "id": "b9e9MtMn910b"
      },
      "execution_count": null,
      "outputs": []
    },
    {
      "cell_type": "code",
      "source": [
        "print(sigmoid(1))"
      ],
      "metadata": {
        "id": "zczRgr4u-G9x"
      },
      "execution_count": null,
      "outputs": []
    },
    {
      "cell_type": "code",
      "source": [
        "def ReLU(num):\n",
        "  if num >= 0:\n",
        "    return num\n",
        "  else:\n",
        "    return 0"
      ],
      "metadata": {
        "id": "5hX6cEXM-J6x"
      },
      "execution_count": null,
      "outputs": []
    },
    {
      "cell_type": "code",
      "source": [
        "print(ReLU(100))\n",
        "print(ReLU(-100))"
      ],
      "metadata": {
        "id": "kbh7tCOA-SBA"
      },
      "execution_count": null,
      "outputs": []
    },
    {
      "cell_type": "code",
      "source": [],
      "metadata": {
        "id": "gK34279O-WN-"
      },
      "execution_count": null,
      "outputs": []
    }
  ]
}