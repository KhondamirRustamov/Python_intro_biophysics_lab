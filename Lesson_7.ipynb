{
  "nbformat": 4,
  "nbformat_minor": 0,
  "metadata": {
    "colab": {
      "provenance": [],
      "authorship_tag": "ABX9TyNU2p7AmkqovjadcTguHd7/",
      "include_colab_link": true
    },
    "kernelspec": {
      "name": "python3",
      "display_name": "Python 3"
    },
    "language_info": {
      "name": "python"
    }
  },
  "cells": [
    {
      "cell_type": "markdown",
      "metadata": {
        "id": "view-in-github",
        "colab_type": "text"
      },
      "source": [
        "<a href=\"https://colab.research.google.com/github/KhondamirRustamov/Python_intro_biophysics_lab/blob/main/Lesson_7.ipynb\" target=\"_parent\"><img src=\"https://colab.research.google.com/assets/colab-badge.svg\" alt=\"Open In Colab\"/></a>"
      ]
    },
    {
      "cell_type": "code",
      "execution_count": null,
      "metadata": {
        "cellView": "form",
        "id": "6-bx8uk7mRQm"
      },
      "outputs": [],
      "source": [
        "#@title Intro to Neural Networks with **PyTorch**"
      ]
    },
    {
      "cell_type": "code",
      "source": [
        "import numpy as np\n",
        "import torch\n",
        "import torch.nn as nn"
      ],
      "metadata": {
        "id": "VvzwIg6nmcfk"
      },
      "execution_count": 1,
      "outputs": []
    },
    {
      "cell_type": "code",
      "source": [
        "x = np.array([[1, 2, 3, 4, 5, 6]]).T\n",
        "y = np.array([[2, 4, 6, 8, 10, 12]]).T"
      ],
      "metadata": {
        "id": "7RYU_tukmkDX"
      },
      "execution_count": 78,
      "outputs": []
    },
    {
      "cell_type": "code",
      "source": [
        "print(x)"
      ],
      "metadata": {
        "id": "4IMjssRnntoy"
      },
      "execution_count": null,
      "outputs": []
    },
    {
      "cell_type": "code",
      "source": [
        "X = torch.tensor(x, dtype=torch.float32)\n",
        "y = torch.tensor(y, dtype=torch.float32)"
      ],
      "metadata": {
        "id": "m4eUPNiHmsB7"
      },
      "execution_count": 80,
      "outputs": []
    },
    {
      "cell_type": "code",
      "source": [
        "model = nn.Sequential(\n",
        "    nn.Linear(1, 1),\n",
        ")\n",
        "\n",
        "print(model)"
      ],
      "metadata": {
        "id": "Dk3r5yvdmzWx"
      },
      "execution_count": null,
      "outputs": []
    },
    {
      "cell_type": "code",
      "source": [
        "loss_fn   = nn.MSELoss()  # binary cross entropy\n",
        "optimizer = torch.optim.SGD(model.parameters(), lr=0.001)\n",
        "\n",
        "n_epochs = 100\n",
        "batch_size = 10"
      ],
      "metadata": {
        "id": "nglV8vIwm5oU"
      },
      "execution_count": 82,
      "outputs": []
    },
    {
      "cell_type": "code",
      "source": [
        "for epoch in range(n_epochs):\n",
        "    y_pred = model(X)\n",
        "    loss = loss_fn(y_pred, y)\n",
        "    optimizer.zero_grad()\n",
        "    loss.backward()\n",
        "    optimizer.step()\n",
        "    if epoch % 10 == 0:\n",
        "        print(f'Finished epoch {epoch}, latest loss {loss}')"
      ],
      "metadata": {
        "id": "Q7gMZhiVnK7m"
      },
      "execution_count": null,
      "outputs": []
    },
    {
      "cell_type": "code",
      "source": [
        "test = torch.Tensor(np.array([[x for x in range(100)]]).T)\n",
        "test_y = model(test)"
      ],
      "metadata": {
        "id": "XcUhmshHn7Ar"
      },
      "execution_count": 84,
      "outputs": []
    },
    {
      "cell_type": "code",
      "source": [
        "import matplotlib.pyplot as plt\n",
        "\n",
        "plt.plot(test.detach().numpy(), test_y.detach().numpy())\n",
        "plt.plot([1, 2, 3, 4, 5, 6], [2, 4, 6, 8, 10, 12], 'bo')"
      ],
      "metadata": {
        "id": "_GDTYnaLt7u7"
      },
      "execution_count": null,
      "outputs": []
    }
  ]
}