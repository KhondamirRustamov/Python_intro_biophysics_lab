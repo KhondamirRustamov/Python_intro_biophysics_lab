{
  "nbformat": 4,
  "nbformat_minor": 0,
  "metadata": {
    "colab": {
      "provenance": [],
      "authorship_tag": "ABX9TyPPty02x9Zi5hYO0XOTHaYq",
      "include_colab_link": true
    },
    "kernelspec": {
      "name": "python3",
      "display_name": "Python 3"
    },
    "language_info": {
      "name": "python"
    }
  },
  "cells": [
    {
      "cell_type": "markdown",
      "metadata": {
        "id": "view-in-github",
        "colab_type": "text"
      },
      "source": [
        "<a href=\"https://colab.research.google.com/github/KhondamirRustamov/Python_intro_biophysics_lab/blob/main/Lesson_7.ipynb\" target=\"_parent\"><img src=\"https://colab.research.google.com/assets/colab-badge.svg\" alt=\"Open In Colab\"/></a>"
      ]
    },
    {
      "cell_type": "code",
      "execution_count": null,
      "metadata": {
        "cellView": "form",
        "id": "6-bx8uk7mRQm"
      },
      "outputs": [],
      "source": [
        "#@title Intro to Neural Networks with **PyTorch**"
      ]
    },
    {
      "cell_type": "code",
      "source": [
        "import numpy as np\n",
        "import torch\n",
        "import torch.nn as nn"
      ],
      "metadata": {
        "id": "VvzwIg6nmcfk"
      },
      "execution_count": 1,
      "outputs": []
    },
    {
      "cell_type": "code",
      "source": [
        "x = np.array([[1, 2, 3, 4, 5, 6]]).T\n",
        "y = np.array([[2, 4, 6, 8, 10, 12]]).T"
      ],
      "metadata": {
        "id": "7RYU_tukmkDX"
      },
      "execution_count": 20,
      "outputs": []
    },
    {
      "cell_type": "code",
      "source": [
        "print(x)"
      ],
      "metadata": {
        "id": "4IMjssRnntoy"
      },
      "execution_count": null,
      "outputs": []
    },
    {
      "cell_type": "code",
      "source": [
        "X = torch.tensor(x, dtype=torch.float32)\n",
        "y = torch.tensor(y, dtype=torch.float32)"
      ],
      "metadata": {
        "id": "m4eUPNiHmsB7"
      },
      "execution_count": 22,
      "outputs": []
    },
    {
      "cell_type": "code",
      "source": [
        "model = nn.Sequential(\n",
        "    nn.Linear(1, 1),\n",
        ")\n",
        "\n",
        "print(model)"
      ],
      "metadata": {
        "colab": {
          "base_uri": "https://localhost:8080/"
        },
        "id": "Dk3r5yvdmzWx",
        "outputId": "1b1807ae-3a9f-4937-87d6-644308e9aece"
      },
      "execution_count": 4,
      "outputs": [
        {
          "output_type": "stream",
          "name": "stdout",
          "text": [
            "Sequential(\n",
            "  (0): Linear(in_features=1, out_features=1, bias=True)\n",
            ")\n"
          ]
        }
      ]
    },
    {
      "cell_type": "code",
      "source": [
        "loss_fn   = nn.MSELoss()  # binary cross entropy\n",
        "optimizer = torch.optim.SGD(model.parameters(), lr=0.001)\n",
        "\n",
        "n_epochs = 100\n",
        "batch_size = 10"
      ],
      "metadata": {
        "id": "nglV8vIwm5oU"
      },
      "execution_count": 5,
      "outputs": []
    },
    {
      "cell_type": "code",
      "source": [
        "for epoch in range(n_epochs):\n",
        "    y_pred = model(X)\n",
        "    loss = loss_fn(y_pred, y)\n",
        "    optimizer.zero_grad()\n",
        "    loss.backward()\n",
        "    optimizer.step()\n",
        "    if epoch % 10 == 0:\n",
        "        print(f'Finished epoch {epoch}, latest loss {loss}')"
      ],
      "metadata": {
        "colab": {
          "base_uri": "https://localhost:8080/"
        },
        "id": "Q7gMZhiVnK7m",
        "outputId": "f4251a59-7f3c-4c2e-a0d2-8fc20acbbf54"
      },
      "execution_count": 24,
      "outputs": [
        {
          "output_type": "stream",
          "name": "stdout",
          "text": [
            "Finished epoch 0, latest loss 0.09528496116399765\n",
            "Finished epoch 10, latest loss 0.05001739040017128\n",
            "Finished epoch 20, latest loss 0.026378795504570007\n",
            "Finished epoch 30, latest loss 0.014034277759492397\n",
            "Finished epoch 40, latest loss 0.007586735766381025\n",
            "Finished epoch 50, latest loss 0.0042183357290923595\n",
            "Finished epoch 60, latest loss 0.0024577067233622074\n",
            "Finished epoch 70, latest loss 0.001536584342829883\n",
            "Finished epoch 80, latest loss 0.001053837244398892\n",
            "Finished epoch 90, latest loss 0.0007998699438758194\n"
          ]
        }
      ]
    },
    {
      "cell_type": "code",
      "source": [
        "test = torch.Tensor([18])\n",
        "print(model(test))"
      ],
      "metadata": {
        "colab": {
          "base_uri": "https://localhost:8080/"
        },
        "id": "XcUhmshHn7Ar",
        "outputId": "369ed803-12c4-4154-92dc-9151e51705ef"
      },
      "execution_count": 28,
      "outputs": [
        {
          "output_type": "stream",
          "name": "stdout",
          "text": [
            "tensor([35.7799], grad_fn=<AddBackward0>)\n"
          ]
        }
      ]
    }
  ]
}