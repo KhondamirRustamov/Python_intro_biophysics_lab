{
  "nbformat": 4,
  "nbformat_minor": 0,
  "metadata": {
    "colab": {
      "provenance": [],
      "authorship_tag": "ABX9TyORzsX3B0gl4+rG4ZZe/bhJ",
      "include_colab_link": true
    },
    "kernelspec": {
      "name": "python3",
      "display_name": "Python 3"
    },
    "language_info": {
      "name": "python"
    }
  },
  "cells": [
    {
      "cell_type": "markdown",
      "metadata": {
        "id": "view-in-github",
        "colab_type": "text"
      },
      "source": [
        "<a href=\"https://colab.research.google.com/github/KhondamirRustamov/Python_intro_biophysics_lab/blob/main/Lesson_7.ipynb\" target=\"_parent\"><img src=\"https://colab.research.google.com/assets/colab-badge.svg\" alt=\"Open In Colab\"/></a>"
      ]
    },
    {
      "cell_type": "code",
      "execution_count": null,
      "metadata": {
        "cellView": "form",
        "id": "6-bx8uk7mRQm"
      },
      "outputs": [],
      "source": [
        "#@title Intro to Neural Networks with **PyTorch**"
      ]
    },
    {
      "cell_type": "code",
      "source": [
        "import numpy as np\n",
        "import torch\n",
        "import torch.nn as nn"
      ],
      "metadata": {
        "id": "VvzwIg6nmcfk"
      },
      "execution_count": 1,
      "outputs": []
    },
    {
      "cell_type": "code",
      "source": [
        "x = np.array([[1, 2, 3, 4, 5, 6, 7, 8, 9, 10, 11, 12, 13, 14, 15, 16, 17, 18, 19, 20]]).T\n",
        "y = np.array([[2, 4, 6, 8, 10, 12, 14, 16, 18, 20, 22, 24, 26, 28, 30, 32, 34, 36, 38, 40]]).T"
      ],
      "metadata": {
        "id": "7RYU_tukmkDX"
      },
      "execution_count": null,
      "outputs": []
    },
    {
      "cell_type": "code",
      "source": [
        "print(x)"
      ],
      "metadata": {
        "id": "4IMjssRnntoy"
      },
      "execution_count": null,
      "outputs": []
    },
    {
      "cell_type": "code",
      "source": [
        "print(y)"
      ],
      "metadata": {
        "id": "eWSycB9XNVxk"
      },
      "execution_count": null,
      "outputs": []
    },
    {
      "cell_type": "code",
      "source": [
        "X = torch.tensor(x, dtype=torch.float32)\n",
        "Y = torch.tensor(y, dtype=torch.float32)"
      ],
      "metadata": {
        "id": "m4eUPNiHmsB7"
      },
      "execution_count": null,
      "outputs": []
    },
    {
      "cell_type": "code",
      "source": [
        "model = nn.Sequential(\n",
        "    nn.Linear(1, 1),\n",
        ")\n",
        "\n",
        "print(model)"
      ],
      "metadata": {
        "id": "Dk3r5yvdmzWx"
      },
      "execution_count": null,
      "outputs": []
    },
    {
      "cell_type": "code",
      "source": [
        "loss_fn   = nn.MSELoss()  # binary cross entropy\n",
        "optimizer = torch.optim.SGD(model.parameters(), lr=0.001)\n",
        "\n",
        "n_epochs = 1000"
      ],
      "metadata": {
        "id": "nglV8vIwm5oU"
      },
      "execution_count": null,
      "outputs": []
    },
    {
      "cell_type": "code",
      "source": [
        "for epoch in range(n_epochs):\n",
        "    y_pred = model(X)\n",
        "    loss = loss_fn(y_pred, Y)\n",
        "    optimizer.zero_grad()\n",
        "    loss.backward()\n",
        "    optimizer.step()\n",
        "    if epoch % 100 == 0:\n",
        "        print(f'Finished epoch {epoch}, latest loss {loss}')"
      ],
      "metadata": {
        "id": "Q7gMZhiVnK7m"
      },
      "execution_count": null,
      "outputs": []
    },
    {
      "cell_type": "code",
      "source": [
        "test = torch.Tensor(np.array([[x for x in range(100)]]).T)\n",
        "test_y = model(test)"
      ],
      "metadata": {
        "id": "XcUhmshHn7Ar"
      },
      "execution_count": null,
      "outputs": []
    },
    {
      "cell_type": "code",
      "source": [
        "import matplotlib.pyplot as plt\n",
        "\n",
        "plt.plot(test.detach().numpy(), test_y.detach().numpy())\n",
        "plt.plot(x.T[0], y.T[0], 'bo')"
      ],
      "metadata": {
        "id": "_GDTYnaLt7u7"
      },
      "execution_count": null,
      "outputs": []
    },
    {
      "cell_type": "code",
      "source": [
        "print(model[0].weight)\n",
        "print(model[0].bias)"
      ],
      "metadata": {
        "id": "VR_8_gDW9Tco"
      },
      "execution_count": null,
      "outputs": []
    },
    {
      "cell_type": "code",
      "source": [
        "with torch.no_grad():\n",
        "  print(model(torch.tensor([98], dtype=torch.float32)))\n",
        "\n",
        "print('-----------')\n",
        "\n",
        "with torch.no_grad():\n",
        "  print(model[0].weight * torch.tensor([98], dtype=torch.float32) + model[0].bias)"
      ],
      "metadata": {
        "id": "Iwx-lKBd_3cw"
      },
      "execution_count": null,
      "outputs": []
    },
    {
      "cell_type": "code",
      "source": [
        "import pandas as pd\n",
        "\n",
        "data = pd.read_csv('parkinson.csv')"
      ],
      "metadata": {
        "id": "Yw4Bju1BNL_R"
      },
      "execution_count": 2,
      "outputs": []
    },
    {
      "cell_type": "code",
      "source": [
        "data = pd.DataFrame(data)\n",
        "data.info()"
      ],
      "metadata": {
        "id": "8sA5vu8GzZ-V"
      },
      "execution_count": null,
      "outputs": []
    },
    {
      "cell_type": "code",
      "source": [
        "x = data.iloc[:150,1:-1]\n",
        "x.head()"
      ],
      "metadata": {
        "id": "P88QgTkTziwH"
      },
      "execution_count": null,
      "outputs": []
    },
    {
      "cell_type": "code",
      "source": [
        "x = x.to_numpy()\n",
        "print(x.shape)"
      ],
      "metadata": {
        "id": "VkjGgdgwzwIZ"
      },
      "execution_count": null,
      "outputs": []
    },
    {
      "cell_type": "code",
      "source": [
        "y = data.iloc[:150, -1].to_numpy().reshape((-1,1))\n",
        "print(y)"
      ],
      "metadata": {
        "id": "-RUYz2--z3mz"
      },
      "execution_count": null,
      "outputs": []
    },
    {
      "cell_type": "code",
      "source": [
        "X = torch.tensor(x, dtype=torch.float32)\n",
        "Y = torch.tensor(y, dtype=torch.float32)"
      ],
      "metadata": {
        "id": "Y-IE6Mxy71CN"
      },
      "execution_count": 8,
      "outputs": []
    },
    {
      "cell_type": "code",
      "source": [
        "print(X.shape)\n",
        "print(Y.shape)"
      ],
      "metadata": {
        "id": "vFkkPLfI8PPH"
      },
      "execution_count": null,
      "outputs": []
    },
    {
      "cell_type": "code",
      "source": [
        "model = nn.Sequential(\n",
        "    nn.Linear(16, 32),\n",
        "    nn.ReLU(),\n",
        "    nn.Linear(32, 32),\n",
        "    nn.ReLU(),\n",
        "    nn.Linear(32, 1),\n",
        "    nn.Sigmoid()\n",
        ")\n",
        "\n",
        "print(model)"
      ],
      "metadata": {
        "id": "6cksbUOX0Imv"
      },
      "execution_count": null,
      "outputs": []
    },
    {
      "cell_type": "code",
      "source": [
        "loss_fn   = nn.BCELoss()  # binary cross entropy\n",
        "optimizer = torch.optim.Adam(model.parameters(), lr=0.01)\n",
        "\n",
        "n_epochs = 1000"
      ],
      "metadata": {
        "id": "SLnh_OMy7qUq"
      },
      "execution_count": 26,
      "outputs": []
    },
    {
      "cell_type": "code",
      "source": [
        "for epoch in range(n_epochs):\n",
        "    y_pred = model(X)\n",
        "    loss = loss_fn(y_pred, Y)\n",
        "    optimizer.zero_grad()\n",
        "    loss.backward()\n",
        "    optimizer.step()\n",
        "    if epoch % 100 == 0:\n",
        "        print(f'Finished epoch {epoch}, latest loss {loss}')"
      ],
      "metadata": {
        "id": "aERMn3sf7zmC"
      },
      "execution_count": null,
      "outputs": []
    },
    {
      "cell_type": "code",
      "source": [
        "x_test = torch.tensor(data.iloc[150:, 1:-1].to_numpy(), dtype=torch.float32)\n",
        "y_test = torch.tensor(data.iloc[150:, -1].to_numpy().reshape((-1,1)), dtype=torch.float32)"
      ],
      "metadata": {
        "id": "rSZBYjikLKCe"
      },
      "execution_count": 32,
      "outputs": []
    },
    {
      "cell_type": "code",
      "source": [
        "x_test.shape"
      ],
      "metadata": {
        "id": "MkfH86k7Lo8O"
      },
      "execution_count": null,
      "outputs": []
    },
    {
      "cell_type": "code",
      "source": [
        "with torch.no_grad():\n",
        "  y_hat = model(x_test)"
      ],
      "metadata": {
        "id": "dNEGtK7FLYXZ"
      },
      "execution_count": 33,
      "outputs": []
    },
    {
      "cell_type": "code",
      "source": [
        "!pip install torcheval"
      ],
      "metadata": {
        "id": "tTzFnvFXNvlW"
      },
      "execution_count": null,
      "outputs": []
    },
    {
      "cell_type": "code",
      "source": [
        "from torcheval.metrics import BinaryAccuracy\n",
        "metric = BinaryAccuracy()\n",
        "metric.update(y_hat.reshape((1,-1))[0], y_test.reshape((1,-1))[0])\n",
        "metric.compute()"
      ],
      "metadata": {
        "id": "SoJ7Ql9YNpnM"
      },
      "execution_count": null,
      "outputs": []
    },
    {
      "cell_type": "code",
      "source": [
        "from sklearn import metrics\n",
        "y_true = y_test.detach().numpy()\n",
        "y_pred = y_hat.detach().numpy()\n",
        "fpr, tpr, thresholds = metrics.roc_curve(y_true, y_pred, pos_label=1)\n",
        "print('AUC:', metrics.auc(fpr, tpr))"
      ],
      "metadata": {
        "id": "kifKxvO7MV5s"
      },
      "execution_count": null,
      "outputs": []
    },
    {
      "cell_type": "code",
      "source": [
        "a = nn.Sigmoid()\n",
        "inp = torch.tensor([-np.inf, 0, 1, 2, 3, 4, 5, np.inf])\n",
        "a(inp)"
      ],
      "metadata": {
        "id": "HDwUXcw_8Zgo"
      },
      "execution_count": null,
      "outputs": []
    }
  ]
}